{
 "cells": [
  {
   "cell_type": "markdown",
   "id": "0eb51d36",
   "metadata": {},
   "source": [
    "# nnUNet - CREATE\n",
    "---\n",
    "#### Joey Spronck\n",
    "\n",
    "This notebook will guide you through all the steps required to train the top-performing nnUNet configuration on the segmentation component of the TIGER challenge. This configuration achieved the #1 ranking on the experimental test set during the first attempt. We are currently in the process of publishing our paper detailing our results. https://openreview.net/forum?id=aHuwlUu_QR\n",
    "\n",
    "This notebook only contains code for nnUNet_v1. Soon we'll release nnUNet_v2 code with additional features (such as dynamic dataloaders) in the main branch of our nnUNet-for-pathology GitHub repo. \n",
    "\n",
    "# Outline\n",
    "- First you will need to download the TIGER training data\n",
    "- Adjust the paths according to your setup and ceate a task name and create the folders (default nnUNet folder structure is required, check its documentation)\n",
    "- Once set up, we'll use a loop to:\n",
    "    - Visualise the ROIs and the corresponding annotations to check whether they load correctly\n",
    "    - Gather label pixel counts and add them to a dataframe\n",
    "- The counts dataframe is later used to define a 5-fold split with balanced label abundance in every fold\n",
    "    - You'll have the option to split every ROI individually, or split based on WSI which groups ROIs from the same WSI in the train or test set (preferred)\n",
    "- We'll write train images and label masks in nifti format\n",
    "- We'll create the dataset.json\n",
    "- Finally you will have a set of trainers and experiment planners to chose from. The best configuration (on a GPU of 11GB) was:\n",
    "    - Trainer: 'nnUNetTrainerV2_BN_pathology_DA_ignore0_hed005'\n",
    "        - Which used batch norm (BN) instead of intance norm (IN)\n",
    "        - Ignores label 0, which is unannotated in TIGER data\n",
    "        - Uses additional HED augmentation\n",
    "    - Experiment planner: 'ExperimentPlanner2D_v21_RGB_scaleTo_0_1_bs8_ps512'\n",
    "        - Scales RGB ton 0-1 instead of applying z-score norm\n",
    "        - Uses a batch size of 8 and a patch size of 512x512\n",
    "            - In another dataset nnUNet automatically came up with a patch size of 1024x1024 and a batch size of 2. In our beforementioned paper we've shown that for pathology data a bigger batch size and with that smaller patch size is benifitial (especially in combination with batch norm)\n",
    "- The notebook shows you the required commands to:\n",
    "    - plan the experiment and preprocess the nifti files\n",
    "    - train the specified configuration "
   ]
  },
  {
   "cell_type": "markdown",
   "id": "29f87901-c893-4c71-bec4-1ee03439d851",
   "metadata": {},
   "source": [
    "# Download TIGER data\n",
    "\n",
    "First you will need to download the prublicly available TIGER dataset through AWS CLI Access (No AWS account required).\n",
    "\n",
    "Check out the follwing link:\n",
    "https://registry.opendata.aws/tiger/\n",
    "\n",
    "Install the AWS CLI on your system and run the following command to see the available data: \n",
    "\n",
    "##### *aws s3 ls --no-sign-request s3://tiger-training/*\n",
    "\n",
    "In this notebook you'll have the option to work with the *wsi-level-annotations* (containing the full WSI and corresponding xml annotations) or the *roi-level-annotations* directly containing png's from the ROIs and the masks used for training.\n",
    "\n",
    "You can download both types of data using:\n",
    "\n",
    "#### All\n",
    "\n",
    "##### *aws s3 cp --no-sign-request --recursive s3://tiger-training/wsirois/ /add/your/path/here/wsirois*\n",
    "\n",
    "similarly you can only download the wsi or roi level data as follows:\n",
    "\n",
    "#### ROI\n",
    "##### *aws s3 cp --no-sign-request --recursive s3://tiger-training/wsirois/roi-level-annotations/tissue-cells /add/your/path/here/wsirois/roi-level-annotations/tissue-cells*\n",
    "\n",
    "#### WSI\n",
    "##### *aws s3 cp --no-sign-request --recursive s3://tiger-training/wsirois/wsi-level-annotations/images/ /add/your/path/here/wsirois/wsi-level-annotations/images/*\n",
    "\n",
    "and\n",
    "\n",
    "##### *aws s3 cp --no-sign-request --recursive s3://tiger-training/wsirois/wsi-level-annotations/annotations-tissue-cells-xmls/ /add/your/path/here/wsirois/wsi-level-annotations/annotations-tissue-cells-xmls/*\n",
    "\n",
    "\n",
    "\n",
    "\n",
    "\n",
    "#### *For speed purposes it is advised to run the ROI based code (default), but feel free to download the WSI based data and uncomment the WSI code as well. However, once you export the nifti files required by nnUNet, make sure you are not exporting nifti files from both approaches into the same train folder, as this will cause duplicates in the train data used by nnUNet*"
   ]
  },
  {
   "cell_type": "markdown",
   "id": "509a4807",
   "metadata": {},
   "source": [
    "# Libraries"
   ]
  },
  {
   "cell_type": "code",
   "execution_count": 1,
   "id": "5f9e24fe",
   "metadata": {},
   "outputs": [],
   "source": [
    "import os\n",
    "\n",
    "\n",
    "from matplotlib import pyplot as plt\n",
    "import numpy as np\n",
    "import pandas as pd\n",
    "import SimpleITK as sitk\n",
    "import yaml\n",
    "from pathlib import Path\n",
    "from PIL import Image\n",
    "import json\n",
    "import re\n",
    "import pickle "
   ]
  },
  {
   "cell_type": "markdown",
   "id": "b650e512-fc49-4d20-910f-037b7ca48c66",
   "metadata": {},
   "source": [
    "Uncomment below if you want to use WSI + xml data instead of using the ROI and mask png's"
   ]
  },
  {
   "cell_type": "code",
   "execution_count": 2,
   "id": "a65d4478-a34d-4e89-a339-7fceb004aaca",
   "metadata": {},
   "outputs": [],
   "source": [
    "# !pip install wholeslidedata==0.0.15\n",
    "# !pip install shapely==1.7.1\n",
    "### you'll probably also need to install openslide if an import doesnt work\n",
    "# # os.add_dll_directory(r\"C:\\Program Files\\openslide\\bin\") # windows\n",
    "# from wholeslidedata.annotation.wholeslideannotation import WholeSlideAnnotation\n",
    "# from wholeslidedata.image.wholeslideimage import WholeSlideImage\n",
    "# from wholeslidedata.accessories.asap.parser import AsapAnnotationParser\n",
    "# from wholeslidedata.samplers.patchlabelsampler import SegmentationPatchLabelSampler\n",
    "# from shapely.geometry import Point"
   ]
  },
  {
   "cell_type": "code",
   "execution_count": 3,
   "id": "a51258b6-9151-43a7-9e0c-bc2253763fc3",
   "metadata": {},
   "outputs": [],
   "source": [
    "def load_pickle(file: str, mode: str = 'rb'):\n",
    "    with open(file, mode) as f:\n",
    "        a = pickle.load(f)\n",
    "    return a\n",
    "\n",
    "def write_pickle(obj, file: str, mode: str = 'wb') -> None:\n",
    "    with open(file, mode) as f:\n",
    "        pickle.dump(obj, f)"
   ]
  },
  {
   "cell_type": "markdown",
   "id": "bebb35ad-9ba2-45bb-a4e4-f82b068f37f4",
   "metadata": {},
   "source": [
    "---\n",
    "---\n",
    "# Set your paths here"
   ]
  },
  {
   "cell_type": "code",
   "execution_count": 4,
   "id": "38a54b06-63a2-4e3d-85e2-6630f2d46b74",
   "metadata": {},
   "outputs": [],
   "source": [
    "tiger_yaml_path = 'temp_stuff/tigersegmentationdata.yml'\n",
    "\n",
    "tiger_data_folder = '/data/pathology/projects/tiger/new_structure/training/wsirois'\n",
    "replace_root = tiger_data_folder\n",
    "\n",
    "nnUNet_base = '/data/pathology/projects/pathology-lung-TIL/nnUNet_raw_data_base'\n",
    "preprocessed_root = '/data/pathology/projects/pathology-lung-TIL/nnUNet_raw_data_base/nnUNet_preprocessed'"
   ]
  },
  {
   "cell_type": "markdown",
   "id": "544f5538-4bd5-481c-9ee3-65ba0838c91c",
   "metadata": {},
   "source": [
    "### Print tasks"
   ]
  },
  {
   "cell_type": "code",
   "execution_count": 5,
   "id": "da012cc3-9849-4f92-82ac-af56bca56cff",
   "metadata": {},
   "outputs": [
    {
     "data": {
      "text/plain": [
       "['Task001_Lung_tissue_segmentation_first',\n",
       " 'Task002_Lung_tissue_segmentation_raw_ROIs',\n",
       " 'Task003_Lung_tissue_segmentation_raw_ROIs_corrected',\n",
       " 'Task004_lowres_spacing4_Lung_tissue_segmentation',\n",
       " 'Task005_lowres_spacing2_ignore_label0_Lung_tissue_segmentation',\n",
       " 'Task006_highres_FOLD0_lowres_from_task005_Lung_tissue_segmentation',\n",
       " 'Task007_highres_FOLD1_lowres_from_task005_Lung_tissue_segmentation',\n",
       " 'Task008_highres_FOLD2_lowres_from_task005_Lung_tissue_segmentation',\n",
       " 'Task009_highres_FOLD3_lowres_from_task005_Lung_tissue_segmentation',\n",
       " 'Task010_highres_FOLD0_lowres_SOFTMAX_and_NOISE_from_task005_Lung_tissue_segmentation',\n",
       " 'Task011_highres_FOLD1_lowres_SOFTMAX_and_NOISE_from_task005_Lung_tissue_segmentation',\n",
       " 'Task012_highres_FOLD2_lowres_SOFTMAX_and_NOISE_from_task005_Lung_tissue_segmentation',\n",
       " 'Task013_highres_FOLD3_lowres_SOFTMAX_and_NOISE_from_task005_Lung_tissue_segmentation',\n",
       " 'Task014_merged_classes_T_TAS_O_N',\n",
       " 'Task015_batch2_added_to_train_pathology_DA1',\n",
       " 'Task016_full_batch1_2_3_to_train_pathology_DA1',\n",
       " 'Task017_batch1_2_to_train_pathology_DA1_improved_annotations',\n",
       " 'Task018_batch1_2_to_train_new_split',\n",
       " 'Task019_batch2_to_train_Fabian_check',\n",
       " 'Task020_batch1_3_to_train_BN_bs8_ps512_stroma_merge',\n",
       " 'Task021_batch1_3_to_train_BN_bs8_ps512_stroma_merge_DA_debugging',\n",
       " 'Task022_batch1_2_3_to_train_ROI_based_split',\n",
       " 'Task023_TIGER',\n",
       " 'Task024_TIGER2',\n",
       " 'Task025_test_Nadieh',\n",
       " 'Task026_PDL1_test',\n",
       " 'Task027_TIGER_public_test']"
      ]
     },
     "execution_count": 5,
     "metadata": {},
     "output_type": "execute_result"
    }
   ],
   "source": [
    "nnUNet_data_root = os.path.join(nnUNet_base, \"nnUNet_raw_data\")\n",
    "sorted(os.listdir(nnUNet_data_root))"
   ]
  },
  {
   "cell_type": "markdown",
   "id": "aa541e15-3fbd-44d6-ad4f-b1708c9cb7e5",
   "metadata": {},
   "source": [
    "# Create your task"
   ]
  },
  {
   "cell_type": "markdown",
   "id": "2405c0e0-f5f1-4da5-8afd-55929b6dbea3",
   "metadata": {},
   "source": [
    "### Set your task name here (with an id that is not taken yet)\n",
    "for example: Task001_TIGER_challenge"
   ]
  },
  {
   "cell_type": "code",
   "execution_count": 6,
   "id": "aea47926-8b79-437d-b32b-5903ba3d1dd0",
   "metadata": {},
   "outputs": [],
   "source": [
    "task_name = 'Task027_TIGER_public_test'\n",
    "task_id = re.match('Task([0-9]+)', task_name).group(1)"
   ]
  },
  {
   "cell_type": "code",
   "execution_count": 7,
   "id": "117c667e",
   "metadata": {},
   "outputs": [
    {
     "name": "stdout",
     "output_type": "stream",
     "text": [
      "TASK:\t\t Task027_TIGER_public_test\n",
      "nnUNet ROOT:\t /data/pathology/projects/pathology-lung-TIL/nnUNet_raw_data_base\n"
     ]
    },
    {
     "data": {
      "text/plain": [
       "'/data/pathology/projects/pathology-lung-TIL/nnUNet_raw_data_base/nnUNet_raw_data/Task027_TIGER_public_test/labelsTr'"
      ]
     },
     "execution_count": 7,
     "metadata": {},
     "output_type": "execute_result"
    }
   ],
   "source": [
    "task_root = os.path.join(nnUNet_data_root, task_name)\n",
    "print(\"TASK:\\t\\t\", task_name)\n",
    "print(\"nnUNet ROOT:\\t\", nnUNet_base)\n",
    "image_folder = os.path.join(task_root, \"imagesTr\")\n",
    "label_folder = os.path.join(task_root, \"labelsTr\")\n",
    "label_folder"
   ]
  },
  {
   "cell_type": "markdown",
   "id": "b8bd9ab6-22c8-41aa-9318-91b20cd72287",
   "metadata": {},
   "source": [
    "### Make folders"
   ]
  },
  {
   "cell_type": "code",
   "execution_count": 8,
   "id": "fab75ba3",
   "metadata": {},
   "outputs": [],
   "source": [
    "os.makedirs(image_folder, exist_ok=True)\n",
    "os.makedirs(label_folder, exist_ok=True)"
   ]
  },
  {
   "cell_type": "markdown",
   "id": "937205e9",
   "metadata": {},
   "source": [
    "---\n",
    "---\n",
    "# Data import"
   ]
  },
  {
   "cell_type": "code",
   "execution_count": 9,
   "id": "03e7313c-0eb4-430e-9240-ea073290d2c1",
   "metadata": {},
   "outputs": [],
   "source": [
    "with open(tiger_yaml_path) as f:\n",
    "    tiger_yaml = yaml.safe_load(f)"
   ]
  },
  {
   "cell_type": "code",
   "execution_count": 10,
   "id": "3a6c036e-9e2a-40b2-ba64-0f0699cd8919",
   "metadata": {},
   "outputs": [],
   "source": [
    "# Same file\n",
    "# import requests\n",
    "# r = requests.get('https://raw.githubusercontent.com/DIAGNijmegen/pathology-whole-slide-data/main/docs/source/userguide/notebooks/examples/configs/tigersegmentationdata.yml')\n",
    "# tiger_yaml = yaml.safe_load(r.text)"
   ]
  },
  {
   "cell_type": "markdown",
   "id": "cc55466d-18ce-4b78-bdb4-ee998d20ba01",
   "metadata": {},
   "source": [
    "### Matches per WSI|"
   ]
  },
  {
   "cell_type": "markdown",
   "id": "e481743f-8fae-4eed-9afb-f5f7190e3321",
   "metadata": {},
   "source": [
    "These are the 195 WSIs and the corresponding XML annotations (possibly containing multiple ROIs)"
   ]
  },
  {
   "cell_type": "code",
   "execution_count": 11,
   "id": "cdf2253c-b75b-4066-bbab-f69177130f26",
   "metadata": {},
   "outputs": [
    {
     "name": "stdout",
     "output_type": "stream",
     "text": [
      "195\n"
     ]
    },
    {
     "data": {
      "text/plain": [
       "[('/data/pathology/projects/tiger/new_structure/training/wsirois/wsi-level-annotations/images/100B.tif',\n",
       "  '/data/pathology/projects/tiger/new_structure/training/wsirois/wsi-level-annotations/annotations-tissue-cells-xmls/100B.xml'),\n",
       " ('/data/pathology/projects/tiger/new_structure/training/wsirois/wsi-level-annotations/images/114S.tif',\n",
       "  '/data/pathology/projects/tiger/new_structure/training/wsirois/wsi-level-annotations/annotations-tissue-cells-xmls/114S.xml'),\n",
       " ('/data/pathology/projects/tiger/new_structure/training/wsirois/wsi-level-annotations/images/122S.tif',\n",
       "  '/data/pathology/projects/tiger/new_structure/training/wsirois/wsi-level-annotations/annotations-tissue-cells-xmls/122S.xml'),\n",
       " ('/data/pathology/projects/tiger/new_structure/training/wsirois/wsi-level-annotations/images/133S.tif',\n",
       "  '/data/pathology/projects/tiger/new_structure/training/wsirois/wsi-level-annotations/annotations-tissue-cells-xmls/133S.xml')]"
      ]
     },
     "execution_count": 11,
     "metadata": {},
     "output_type": "execute_result"
    }
   ],
   "source": [
    "train_image_anno = [(entry['wsi']['path'].replace('/home/user', replace_root), entry['wsa']['path'].replace('/home/user', replace_root)) for entry in tiger_yaml['training']]\n",
    "print(len(train_image_anno))\n",
    "train_image_anno[:4]"
   ]
  },
  {
   "cell_type": "markdown",
   "id": "09564258-82c0-4b13-b383-9a297eaeb807",
   "metadata": {},
   "source": [
    "##### Simple check if replace dict is done right\n",
    "If you want to use the WSI and xml data, this needs to be true"
   ]
  },
  {
   "cell_type": "code",
   "execution_count": 12,
   "id": "f6ec1c72-6556-408c-8306-9689e78b25de",
   "metadata": {},
   "outputs": [
    {
     "data": {
      "text/plain": [
       "True"
      ]
     },
     "execution_count": 12,
     "metadata": {},
     "output_type": "execute_result"
    }
   ],
   "source": [
    "os.path.isfile(train_image_anno[0][0])"
   ]
  },
  {
   "cell_type": "markdown",
   "id": "3b5f2e28-78a8-440a-b8cb-c1e01f574463",
   "metadata": {},
   "source": [
    "### Matches per ROI"
   ]
  },
  {
   "cell_type": "markdown",
   "id": "eab6d9dc-a882-4e8f-b6d3-c048e1135daa",
   "metadata": {},
   "source": [
    "We also have the 286 ROI images and annotation masks directly. These are used in this experiment, because loading them directly is faster than loading the ROIs and masks from the WSI"
   ]
  },
  {
   "cell_type": "code",
   "execution_count": null,
   "id": "41646ef9-352d-4fdd-9c57-aa92d15ae89b",
   "metadata": {},
   "outputs": [],
   "source": [
    "train_image_anno = [(entry['wsi']['path'].replace('/home/user', replace_root), entry['wsa']['path'].replace('/home/user', replace_root)) for entry in tiger_yaml['training']]\n",
    "\n",
    "new_train_images = []\n",
    "new_train_annos = []\n",
    "for i, a in train_image_anno:\n",
    "    if 'tissue-cells' in a:\n",
    "        a = Path(a.replace('wsi-level-annotations/annotations-tissue-cells-xmls', 'roi-level-annotations/tissue-cells/masks'))\n",
    "        i = Path(i.replace('wsi-level-annotations/images', 'roi-level-annotations/tissue-cells/images'))\n",
    "    elif 'bcss' in a:\n",
    "        a = Path(a.replace('wsi-level-annotations/annotations-tissue-bcss-xmls', 'roi-level-annotations/tissue-bcss/masks'))\n",
    "        i = Path(i.replace('wsi-level-annotations/images', 'roi-level-annotations/tissue-bcss/images'))\n",
    "    ii = sorted([i.parent/file for file in os.listdir(i.parent) if file.startswith(i.stem)])\n",
    "    aa = sorted([a.parent/file for file in os.listdir(a.parent) if file.startswith(a.stem)])\n",
    "    new_train_images += ii\n",
    "    new_train_annos += aa\n",
    "train_image_anno_rois = list(zip(new_train_images, new_train_annos))\n",
    "for i, a in train_image_anno_rois:\n",
    "    assert i.stem==a.stem\n",
    "print(len(train_image_anno_rois))\n",
    "train_image_anno_rois[:4]"
   ]
  },
  {
   "cell_type": "markdown",
   "id": "b1a00a36-bf63-402d-9b55-1382a0490750",
   "metadata": {},
   "source": [
    "##### Simple check if replace dict is done right\n",
    "If you want to use the ROI and mask png's this should be true"
   ]
  },
  {
   "cell_type": "code",
   "execution_count": null,
   "id": "0fe61fdb-158e-44d2-8030-4900f6bae63e",
   "metadata": {},
   "outputs": [],
   "source": [
    "os.path.isfile(train_image_anno_rois[0][0])"
   ]
  },
  {
   "cell_type": "markdown",
   "id": "25f44d91",
   "metadata": {},
   "source": [
    "### Colormap and labels"
   ]
  },
  {
   "cell_type": "code",
   "execution_count": null,
   "id": "1ac1f20e",
   "metadata": {},
   "outputs": [],
   "source": [
    "from matplotlib.colors import LinearSegmentedColormap\n",
    "from matplotlib import cm\n",
    "\n",
    "colormap = [ [ 0, 0, 0, 0 ], [ 0, 224, 249, 255 ], [ 0, 249, 50, 255 ], [ 174, 249, 0, 255 ], [ 249, 100, 0, 255 ], [ 249, 0, 125, 255 ], [ 149, 0, 249, 255 ], [ 0, 0, 206, 255 ], [ 0, 185, 206, 255 ], [ 0, 206, 41, 255 ], [ 143, 206, 0, 255 ], [ 206, 82, 0, 255 ], [ 206, 0, 103, 255 ], [ 124, 0, 206, 255 ], [ 0, 0, 162, 255 ], [ 0, 145, 162, 255 ], [ 0, 162, 32, 255 ], [ 114, 162, 0, 255 ], [ 162, 65, 0, 255 ], [ 162, 0, 81, 255 ], [ 97, 0, 162, 255 ], [ 0, 0, 119, 255 ], [ 0, 107, 119, 255 ], [ 0, 119, 23, 255 ], [ 83, 119, 0, 255 ], [ 119, 47, 0, 255 ], [ 119, 0, 59, 255 ], [ 71, 0, 119, 255 ], [ 100, 100, 249, 255 ], [ 100, 234, 249, 255 ], [ 100, 249, 129, 255 ], [ 204, 249, 100, 255 ], [ 249, 159, 100, 255 ], [ 249, 100, 174, 255 ], [ 189, 100, 249, 255 ], [ 82, 82, 206, 255 ], [ 82, 193, 206, 255 ], [ 82, 206, 107, 255 ], [ 168, 206, 82, 255 ], [ 206, 131, 82, 255 ], [ 206, 82, 143, 255 ], [ 156, 82, 206, 255 ], [ 65, 65, 162, 255 ], [ 65, 152, 162, 255 ], [ 65, 162, 84, 255 ], [ 132, 162, 65, 255 ], [ 162, 104, 65, 255 ], [ 162, 65, 114, 255 ], [ 123, 65, 162, 255 ], [ 47, 47, 119, 255 ], [ 47, 112, 119, 255 ], [ 47, 119, 61, 255 ], [ 97, 119, 47, 255 ], [ 119, 76, 47, 255 ], [ 119, 47, 83, 255 ], [ 90, 47, 119, 255 ], [ 174, 174, 249, 255 ], [ 174, 242, 249, 255 ], [ 174, 249, 189, 255 ], [ 227, 249, 174, 255 ], [ 249, 204, 174, 255 ], [ 249, 174, 212, 255 ], [ 219, 174, 249, 255 ], [ 143, 143, 206, 255 ], [ 143, 199, 206, 255 ], [ 143, 206, 156, 255 ], [ 187, 206, 143, 255 ], [ 206, 168, 143, 255 ], [ 206, 143, 175, 255 ], [ 181, 143, 206, 255 ], [ 114, 114, 162, 255 ], [ 114, 157, 162, 255 ], [ 114, 162, 123, 255 ], [ 147, 162, 114, 255 ], [ 162, 132, 114, 255 ], [ 162, 114, 137, 255 ], [ 142, 114, 162, 255 ], [ 83, 83, 119, 255 ], [ 83, 115, 119, 255 ], [ 83, 119, 90, 255 ], [ 108, 119, 83, 255 ], [ 119, 97, 83, 255 ], [ 119, 83, 101, 255 ], [ 104, 83, 119, 255 ], [ 224, 224, 249, 255 ], [ 224, 247, 249, 255 ], [ 224, 249, 229, 255 ], [ 242, 249, 224, 255 ], [ 249, 234, 224, 255 ], [ 249, 224, 237, 255 ], [ 239, 224, 249, 255 ], [ 185, 185, 206, 255 ], [ 185, 204, 206, 255 ], [ 185, 206, 189, 255 ], [ 199, 206, 185, 255 ], [ 206, 193, 185, 255 ], [ 206, 185, 195, 255 ], [ 197, 185, 206, 255 ], [ 145, 145, 162, 255 ], [ 145, 160, 162, 255 ], [ 145, 162, 149, 255 ], [ 157, 162, 145, 255 ], [ 162, 152, 145, 255 ], [ 162, 145, 153, 255 ], [ 155, 145, 162, 255 ], [ 107, 107, 119, 255 ], [ 107, 118, 119, 255 ], [ 107, 119, 109, 255 ], [ 115, 119, 107, 255 ], [ 119, 112, 107, 255 ], [ 119, 107, 113, 255 ], [ 114, 107, 119, 255 ], [ 0, 0, 249, 255 ], [ 0, 224, 249, 255 ], [ 0, 249, 50, 255 ], [ 174, 249, 0, 255 ], [ 249, 100, 0, 255 ], [ 249, 0, 125, 255 ], [ 149, 0, 249, 255 ], [ 0, 0, 206, 255 ], [ 0, 185, 206, 255 ], [ 0, 206, 41, 255 ], [ 143, 206, 0, 255 ], [ 206, 82, 0, 255 ], [ 206, 0, 103, 255 ], [ 124, 0, 206, 255 ], [ 0, 0, 162, 255 ], [ 0, 145, 162, 255 ], [ 0, 162, 32, 255 ], [ 114, 162, 0, 255 ], [ 162, 65, 0, 255 ], [ 162, 0, 81, 255 ], [ 97, 0, 162, 255 ], [ 0, 0, 119, 255 ], [ 0, 107, 119, 255 ], [ 0, 119, 23, 255 ], [ 83, 119, 0, 255 ], [ 119, 47, 0, 255 ], [ 119, 0, 59, 255 ], [ 71, 0, 119, 255 ], [ 100, 100, 249, 255 ], [ 100, 234, 249, 255 ], [ 100, 249, 129, 255 ], [ 204, 249, 100, 255 ], [ 249, 159, 100, 255 ], [ 249, 100, 174, 255 ], [ 189, 100, 249, 255 ], [ 82, 82, 206, 255 ], [ 82, 193, 206, 255 ], [ 82, 206, 107, 255 ], [ 168, 206, 82, 255 ], [ 206, 131, 82, 255 ], [ 206, 82, 143, 255 ], [ 156, 82, 206, 255 ], [ 65, 65, 162, 255 ], [ 65, 152, 162, 255 ], [ 65, 162, 84, 255 ], [ 132, 162, 65, 255 ], [ 162, 104, 65, 255 ], [ 162, 65, 114, 255 ], [ 123, 65, 162, 255 ], [ 47, 47, 119, 255 ], [ 47, 112, 119, 255 ], [ 47, 119, 61, 255 ], [ 97, 119, 47, 255 ], [ 119, 76, 47, 255 ], [ 119, 47, 83, 255 ], [ 90, 47, 119, 255 ], [ 174, 174, 249, 255 ], [ 174, 242, 249, 255 ], [ 174, 249, 189, 255 ], [ 227, 249, 174, 255 ], [ 249, 204, 174, 255 ], [ 249, 174, 212, 255 ], [ 219, 174, 249, 255 ], [ 143, 143, 206, 255 ], [ 143, 199, 206, 255 ], [ 143, 206, 156, 255 ], [ 187, 206, 143, 255 ], [ 206, 168, 143, 255 ], [ 206, 143, 175, 255 ], [ 181, 143, 206, 255 ], [ 114, 114, 162, 255 ], [ 114, 157, 162, 255 ], [ 114, 162, 123, 255 ], [ 147, 162, 114, 255 ], [ 162, 132, 114, 255 ], [ 162, 114, 137, 255 ], [ 142, 114, 162, 255 ], [ 83, 83, 119, 255 ], [ 83, 115, 119, 255 ], [ 83, 119, 90, 255 ], [ 108, 119, 83, 255 ], [ 119, 97, 83, 255 ], [ 119, 83, 101, 255 ], [ 104, 83, 119, 255 ], [ 224, 224, 249, 255 ], [ 224, 247, 249, 255 ], [ 224, 249, 229, 255 ], [ 242, 249, 224, 255 ], [ 249, 234, 224, 255 ], [ 249, 224, 237, 255 ], [ 239, 224, 249, 255 ], [ 185, 185, 206, 255 ], [ 185, 204, 206, 255 ], [ 185, 206, 189, 255 ], [ 199, 206, 185, 255 ], [ 206, 193, 185, 255 ], [ 206, 185, 195, 255 ], [ 197, 185, 206, 255 ], [ 145, 145, 162, 255 ], [ 145, 160, 162, 255 ], [ 145, 162, 149, 255 ], [ 157, 162, 145, 255 ], [ 162, 152, 145, 255 ], [ 162, 145, 153, 255 ], [ 155, 145, 162, 255 ], [ 107, 107, 119, 255 ], [ 107, 118, 119, 255 ], [ 107, 119, 109, 255 ], [ 115, 119, 107, 255 ], [ 119, 112, 107, 255 ], [ 119, 107, 113, 255 ], [ 114, 107, 119, 255 ], [ 0, 0, 249, 255 ], [ 0, 224, 249, 255 ], [ 0, 249, 50, 255 ], [ 174, 249, 0, 255 ], [ 249, 100, 0, 255 ], [ 249, 0, 125, 255 ], [ 149, 0, 249, 255 ], [ 0, 0, 206, 255 ], [ 0, 185, 206, 255 ], [ 0, 206, 41, 255 ], [ 143, 206, 0, 255 ], [ 206, 82, 0, 255 ], [ 206, 0, 103, 255 ], [ 124, 0, 206, 255 ], [ 0, 0, 162, 255 ], [ 0, 145, 162, 255 ], [ 0, 162, 32, 255 ], [ 114, 162, 0, 255 ], [ 162, 65, 0, 255 ], [ 162, 0, 81, 255 ], [ 97, 0, 162, 255 ], [ 0, 0, 119, 255 ], [ 0, 107, 119, 255 ], [ 0, 119, 23, 255 ], [ 83, 119, 0, 255 ], [ 119, 47, 0, 255 ], [ 119, 0, 59, 255 ], [ 71, 0, 119, 255 ], [ 100, 100, 249, 255 ], [ 100, 234, 249, 255 ], [ 100, 249, 129, 255 ], [ 0, 249, 50, 255 ] ]\n",
    "colormap = np.array(colormap)/255.\n",
    "cmap = LinearSegmentedColormap.from_list('my_cmap', colors=colormap)\n",
    "\n",
    "label_names = ['Unannotated', \n",
    "               'Invasive tumor',\n",
    "               'Tumor-associated stroma',\n",
    "               'In-situ tumor', \n",
    "               'Healthy glands',\n",
    "               'Necrosis not in-situ', \n",
    "               'Inflamed stroma', \n",
    "               'Rest']\n",
    "label_index = list(range(len(label_names)))\n",
    "n_labels = len(label_names)\n",
    "label_plot_args = {\"cmap\":cmap, \"vmin\":0, \"vmax\":255, \"interpolation\":\"none\"}\n",
    "\n",
    "%matplotlib inline\n",
    "\n",
    "# easy to copy paste in into figures where you need labels this way\n",
    "fig, axs = plt.subplots(1, 2, figsize=(5, 5))\n",
    "# axs[0] is just a placeholder\n",
    "axs[-1].imshow([[i] for i in list(range(n_labels))], **label_plot_args)\n",
    "axs[-1].set_yticks(label_index)\n",
    "axs[-1].set_yticklabels(label_names)\n",
    "axs[-1].yaxis.tick_right()\n",
    "axs[-1].get_xaxis().set_visible(False)\n",
    "axs[-1].set_title(\"Labels\")\n",
    "plt.show()"
   ]
  },
  {
   "cell_type": "markdown",
   "id": "8fb35acc",
   "metadata": {
    "tags": []
   },
   "source": [
    "---\n",
    "---\n",
    "# Check images and annotations, gather pixel label distribution data for generating splits"
   ]
  },
  {
   "cell_type": "code",
   "execution_count": null,
   "id": "cee70729-b5ff-4776-9f19-61483d4786ba",
   "metadata": {},
   "outputs": [],
   "source": [
    "def add_zero_classes(classes, counts, len_labels = n_labels): # should have used Counter from collections\n",
    "    complete_counts = np.zeros(len_labels)\n",
    "    for i in range(len(classes)):\n",
    "        complete_counts[classes[i]] = counts[i]\n",
    "    complete_counts.astype(int)\n",
    "    return complete_counts"
   ]
  },
  {
   "cell_type": "code",
   "execution_count": null,
   "id": "2d2c3ce3-9ca9-4894-9b61-a1c63a5f28b6",
   "metadata": {},
   "outputs": [],
   "source": [
    "plot = True # Set to true to get a feeling for the data\n",
    "do_counts = True # Needed to do 5 fold split based \n",
    "verbose = False # Debugging"
   ]
  },
  {
   "cell_type": "code",
   "execution_count": null,
   "id": "6412a892-1c97-447d-bbaf-2a041d0556e2",
   "metadata": {},
   "outputs": [],
   "source": [
    "%matplotlib inline"
   ]
  },
  {
   "cell_type": "markdown",
   "id": "80d5f902-7116-4f45-a9f6-28e625738b81",
   "metadata": {},
   "source": [
    "## This loop loops over the ROI images and masks directly\n",
    "#### To loop over the WSI (slower) check the following outcommented loop"
   ]
  },
  {
   "cell_type": "code",
   "execution_count": 21,
   "id": "326604ac-b246-423c-b4f7-554222afbca0",
   "metadata": {
    "tags": []
   },
   "outputs": [],
   "source": [
    "print('counting pixel distributions =', do_counts)\n",
    "\n",
    "previous_wsi_stem = None\n",
    "wsi_roi_counter = 0\n",
    "\n",
    "if do_counts: \n",
    "    count_data = []\n",
    "\n",
    "for ia_idx, (i, a) in enumerate(train_image_anno_rois):\n",
    "    s = Path(a).stem\n",
    "    wsi_stem = i.stem.split('_[')[0]\n",
    "    if previous_wsi_stem == None:\n",
    "        previous_wsi_stem = wsi_stem\n",
    "    elif previous_wsi_stem == wsi_stem:\n",
    "        wsi_roi_counter += 1\n",
    "    else:\n",
    "        previous_wsi_stem = wsi_stem\n",
    "        wsi_roi_counter = 0\n",
    "        \n",
    "    if plot == False:\n",
    "        print(f'[{ia_idx+1}/{len(train_image_anno_rois)}] \\t',  s)\n",
    "        \n",
    "    if verbose:\n",
    "        print('loading images')\n",
    "    roi_patch = Image.open(i)\n",
    "    mask_patch = Image.open(a)\n",
    "\n",
    "    ### COUNT CLASS PIXELS\n",
    "    if do_counts:\n",
    "        if verbose:\n",
    "            print('counting')\n",
    "        counts = add_zero_classes(*np.unique(mask_patch, return_counts=True))\n",
    "        count_data.append([wsi_stem, s, wsi_roi_counter, *counts])\n",
    "    # counts_wsi += counts\n",
    "    # counts_total += counts\n",
    "\n",
    "\n",
    "    ######### PLOT #########           \n",
    "    if plot: \n",
    "        if verbose:\n",
    "            print('plotting')\n",
    "        ratio = [14, 2]\n",
    "        fig, axs = plt.subplots(1,4,figsize=(15,4),\n",
    "                                gridspec_kw={'width_ratios': [ratio[0], ratio[0], ratio[0], ratio[-1]]})\n",
    "        fig.suptitle(s, fontsize=15)\n",
    "\n",
    "        # ROI\n",
    "        axs[0].imshow(roi_patch)\n",
    "        axs[0].axis('off')\n",
    "        axs[0].set_title(\"ROI\")\n",
    "\n",
    "        # Ground truth tissue\n",
    "        axs[1].imshow(mask_patch, **label_plot_args) \n",
    "        axs[1].axis('off')\n",
    "        axs[1].set_title(\"Ground truth tissue\")\n",
    "\n",
    "        # Overlay\n",
    "        axs[2].imshow(roi_patch)\n",
    "        axs[2].imshow(mask_patch, alpha=0.5, **label_plot_args) \n",
    "        axs[2].axis('off')\n",
    "        axs[2].set_title(\"Overlay\")\n",
    "\n",
    "        # Labels                \n",
    "        axs[3].imshow([[i] for i in list(range(len(label_index)))], **label_plot_args)\n",
    "        axs[3].set_yticks(label_index) #, rotation=0, ha=\"right\", rotation_mode=\"anchor\")\n",
    "        axs[3].set_yticklabels(label_names)\n",
    "        axs[3].yaxis.tick_right()\n",
    "        axs[3].get_xaxis().set_visible(False)\n",
    "        axs[3].set_title(\"Labels\")\n",
    "\n",
    "        plt.tight_layout()\n",
    "        plt.show()\n",
    "print('Done')"
   ]
  },
  {
   "cell_type": "markdown",
   "id": "2da76392-7ec0-43c4-8492-9fb04b7eb774",
   "metadata": {},
   "source": [
    "## Loop over WSI, and sampling its ROIs + xml annotations\n",
    "Not needed to run this. Left here as an example for you how to deal with WSI + xml files instead of ROI images and masks"
   ]
  },
  {
   "cell_type": "markdown",
   "id": "619c7351-2103-432a-a9f7-7dbfb4637365",
   "metadata": {},
   "source": [
    "##### Whole Slide Data\n",
    "This is needed if you want to load the data from the WSI"
   ]
  },
  {
   "cell_type": "code",
   "execution_count": 18,
   "id": "63cca2da-ebbd-4552-8baf-3b8db4050dc8",
   "metadata": {},
   "outputs": [],
   "source": [
    "# labels = {\n",
    "#     \"roi\": 0,\n",
    "#     \"invasive tumor\": 1,\n",
    "#     \"tumor-associated stroma\": 2,\n",
    "#     \"in-situ tumor\": 3 ,\n",
    "#     \"healthy glands\": 4,\n",
    "#     \"necrosis not in-situ\": 5,\n",
    "#     \"inflamed stroma\": 6,\n",
    "#     \"rest\": 7\n",
    "# }\n",
    "\n",
    "# label_sampler = SegmentationPatchLabelSampler()\n",
    "# parser = AsapAnnotationParser(labels=labels, sample_label_names=['roi']) # we want to sample from the 'roi' annotations"
   ]
  },
  {
   "cell_type": "code",
   "execution_count": 166,
   "id": "44e4473c-7eba-4593-9fbd-18a295883afc",
   "metadata": {},
   "outputs": [],
   "source": [
    "# do_counts = False # to prevent exidentially overwriting the counts data from the previous loop, set to true if intended\n",
    "\n",
    "# print('counting pixel distributions =', do_counts)\n",
    "# if do_counts: \n",
    "#     count_data = []\n",
    "\n",
    "# for ia_idx, (i, a) in enumerate(train_image_anno):\n",
    "#     wsi = WholeSlideImage(i, backend=\"asap\")\n",
    "#     wsa = WholeSlideAnnotation(a, parser=parser)\n",
    "#     s = Path(a).stem\n",
    "#     if plot == False:\n",
    "#         print(f'[{ia_idx+1}/{len(train_image_anno)}]\\t',  s)\n",
    "#     # counts_wsi = np.zeros(n_labels)\n",
    "    \n",
    "#     for idx, anno in enumerate(wsa.sampling_annotations):\n",
    "#         roi_patch = wsi.get_annotation(anno, 0.5)\n",
    "#         # if list(reversed(roi_patch.shape[:2]))[0]>1500:\n",
    "#         #     print('too big, skippin now')\n",
    "#         #     continue\n",
    "#         # if s.startswith('LI'):\n",
    "#         #     seg_ratio = 2 \n",
    "#         # elif s.startswith('TCGA'):\n",
    "#         #     seg_ratio = 1\n",
    "#         # elif s.startswith('11445'):\n",
    "#         #     seg_ratio = 2\n",
    "#         # elif s.startswith('EX'):\\\n",
    "#         #     seg_ratio = 2\n",
    "#         # else:\n",
    "#         #     1/0 #lol, check if correct ratio\n",
    "#         seg_ratio = 1\n",
    "        \n",
    "#         ### GET MASK\n",
    "#         mask_patch = label_sampler.sample(wsa, Point(anno.center), reversed(roi_patch.shape[:2]), ratio=seg_ratio) \n",
    "        \n",
    "#         ### COUNT CLASS PIXELS\n",
    "#         if do_counts:\n",
    "#             counts = add_zero_classes(*np.unique(mask_patch, return_counts=True))\n",
    "#             count_data.append([s, idx, *counts])\n",
    "#         # counts_wsi += counts\n",
    "#         # counts_total += counts\n",
    "        \n",
    "\n",
    "#         ######### FIGURE 1 #########           \n",
    "#         if plot: \n",
    "#             ratio = [14, 2]\n",
    "#             fig, axs = plt.subplots(1,4,figsize=(15,4),\n",
    "#     #                                     gridspec_kw={'width_ratios': [ratio[0], ratio[1], ratio[2]]})\n",
    "#                                     gridspec_kw={'width_ratios': [ratio[0], ratio[0], ratio[0], ratio[-1]]})\n",
    "#             fig.suptitle(s+\"_ROI\"+str(idx), fontsize=15)\n",
    "\n",
    "#             # ROI\n",
    "#             axs[0].imshow(roi_patch)\n",
    "#             axs[0].axis('off')\n",
    "#             axs[0].set_title(\"ROI\")\n",
    "\n",
    "#             # Ground truth tissue\n",
    "#             axs[1].imshow(mask_patch, **label_plot_args) \n",
    "#             axs[1].axis('off')\n",
    "#             axs[1].set_title(\"Ground truth tissue\")\n",
    "\n",
    "#             # Overlay\n",
    "#             axs[2].imshow(roi_patch)\n",
    "#             axs[2].imshow(mask_patch, alpha=0.5, **label_plot_args) \n",
    "#             axs[2].axis('off')\n",
    "#             axs[2].set_title(\"Overlay\")\n",
    "\n",
    "#             # Labels                \n",
    "#             axs[3].imshow([[i] for i in list(range(len(label_index)))], **label_plot_args)\n",
    "#             axs[3].set_yticks(label_index) #, rotation=0, ha=\"right\", rotation_mode=\"anchor\")\n",
    "#             axs[3].set_yticklabels(label_names)\n",
    "#             axs[3].yaxis.tick_right()\n",
    "#             axs[3].get_xaxis().set_visible(False)\n",
    "#             axs[3].set_title(\"Labels\")\n",
    "\n",
    "#             plt.tight_layout()\n",
    "#             plt.show()\n",
    "# print('Done')"
   ]
  },
  {
   "cell_type": "markdown",
   "id": "b5a888a5-1137-44cc-bf88-9c3dc508f9df",
   "metadata": {},
   "source": [
    "---\n",
    "---\n",
    "# Inspect label pixel distributions to define balanced 5-fold cross validation"
   ]
  },
  {
   "cell_type": "markdown",
   "id": "2a07354b-50b2-424a-bc01-22b8dbe79e27",
   "metadata": {},
   "source": [
    "##### First some data wrangling"
   ]
  },
  {
   "cell_type": "code",
   "execution_count": 167,
   "id": "2a0e0fd9-4572-49b5-9c6e-29d6e9a2b3b8",
   "metadata": {},
   "outputs": [
    {
     "data": {
      "text/html": [
       "<div>\n",
       "<style scoped>\n",
       "    .dataframe tbody tr th:only-of-type {\n",
       "        vertical-align: middle;\n",
       "    }\n",
       "\n",
       "    .dataframe tbody tr th {\n",
       "        vertical-align: top;\n",
       "    }\n",
       "\n",
       "    .dataframe thead th {\n",
       "        text-align: right;\n",
       "    }\n",
       "</style>\n",
       "<table border=\"1\" class=\"dataframe\">\n",
       "  <thead>\n",
       "    <tr style=\"text-align: right;\">\n",
       "      <th></th>\n",
       "      <th>wsi</th>\n",
       "      <th>roi_name</th>\n",
       "      <th>roi</th>\n",
       "      <th>Unannotated</th>\n",
       "      <th>Invasive tumor</th>\n",
       "      <th>Tumor-associated stroma</th>\n",
       "      <th>In-situ tumor</th>\n",
       "      <th>Healthy glands</th>\n",
       "      <th>Necrosis not in-situ</th>\n",
       "      <th>Inflamed stroma</th>\n",
       "      <th>Rest</th>\n",
       "    </tr>\n",
       "  </thead>\n",
       "  <tbody>\n",
       "    <tr>\n",
       "      <th>0</th>\n",
       "      <td>100B</td>\n",
       "      <td>100B_[10779, 11621, 12102, 12874]</td>\n",
       "      <td>0</td>\n",
       "      <td>11605.0</td>\n",
       "      <td>0.0</td>\n",
       "      <td>0.0</td>\n",
       "      <td>0.0</td>\n",
       "      <td>824691.0</td>\n",
       "      <td>0.0</td>\n",
       "      <td>0.0</td>\n",
       "      <td>821423.0</td>\n",
       "    </tr>\n",
       "    <tr>\n",
       "      <th>1</th>\n",
       "      <td>100B</td>\n",
       "      <td>100B_[21444, 12438, 22739, 13618]</td>\n",
       "      <td>1</td>\n",
       "      <td>4139.0</td>\n",
       "      <td>915948.0</td>\n",
       "      <td>608013.0</td>\n",
       "      <td>0.0</td>\n",
       "      <td>0.0</td>\n",
       "      <td>0.0</td>\n",
       "      <td>0.0</td>\n",
       "      <td>0.0</td>\n",
       "    </tr>\n",
       "    <tr>\n",
       "      <th>2</th>\n",
       "      <td>100B</td>\n",
       "      <td>100B_[35129, 6567, 36429, 7757]</td>\n",
       "      <td>2</td>\n",
       "      <td>2489.0</td>\n",
       "      <td>0.0</td>\n",
       "      <td>0.0</td>\n",
       "      <td>0.0</td>\n",
       "      <td>48616.0</td>\n",
       "      <td>0.0</td>\n",
       "      <td>0.0</td>\n",
       "      <td>1495895.0</td>\n",
       "    </tr>\n",
       "    <tr>\n",
       "      <th>3</th>\n",
       "      <td>114S</td>\n",
       "      <td>114S_[25546, 18605, 26758, 19785]</td>\n",
       "      <td>0</td>\n",
       "      <td>5645.0</td>\n",
       "      <td>0.0</td>\n",
       "      <td>0.0</td>\n",
       "      <td>0.0</td>\n",
       "      <td>493543.0</td>\n",
       "      <td>0.0</td>\n",
       "      <td>0.0</td>\n",
       "      <td>930972.0</td>\n",
       "    </tr>\n",
       "    <tr>\n",
       "      <th>4</th>\n",
       "      <td>114S</td>\n",
       "      <td>114S_[33188, 13944, 34412, 15110]</td>\n",
       "      <td>1</td>\n",
       "      <td>9106.0</td>\n",
       "      <td>578771.0</td>\n",
       "      <td>324146.0</td>\n",
       "      <td>0.0</td>\n",
       "      <td>93936.0</td>\n",
       "      <td>0.0</td>\n",
       "      <td>82968.0</td>\n",
       "      <td>338257.0</td>\n",
       "    </tr>\n",
       "  </tbody>\n",
       "</table>\n",
       "</div>"
      ],
      "text/plain": [
       "    wsi                           roi_name  roi  Unannotated  Invasive tumor  \\\n",
       "0  100B  100B_[10779, 11621, 12102, 12874]    0      11605.0             0.0   \n",
       "1  100B  100B_[21444, 12438, 22739, 13618]    1       4139.0        915948.0   \n",
       "2  100B    100B_[35129, 6567, 36429, 7757]    2       2489.0             0.0   \n",
       "3  114S  114S_[25546, 18605, 26758, 19785]    0       5645.0             0.0   \n",
       "4  114S  114S_[33188, 13944, 34412, 15110]    1       9106.0        578771.0   \n",
       "\n",
       "   Tumor-associated stroma  In-situ tumor  Healthy glands  \\\n",
       "0                      0.0            0.0        824691.0   \n",
       "1                 608013.0            0.0             0.0   \n",
       "2                      0.0            0.0         48616.0   \n",
       "3                      0.0            0.0        493543.0   \n",
       "4                 324146.0            0.0         93936.0   \n",
       "\n",
       "   Necrosis not in-situ  Inflamed stroma       Rest  \n",
       "0                   0.0              0.0   821423.0  \n",
       "1                   0.0              0.0        0.0  \n",
       "2                   0.0              0.0  1495895.0  \n",
       "3                   0.0              0.0   930972.0  \n",
       "4                   0.0          82968.0   338257.0  "
      ]
     },
     "execution_count": 167,
     "metadata": {},
     "output_type": "execute_result"
    }
   ],
   "source": [
    "df_counts = pd.DataFrame(count_data, columns=['wsi', 'roi_name', 'roi'] + label_names)\n",
    "# maybe you want to save this df (especially if you used the slower WSI loop)\n",
    "df_counts.head()"
   ]
  },
  {
   "cell_type": "code",
   "execution_count": 168,
   "id": "a2455f0d-f9d2-4967-965c-df4586a3d1fd",
   "metadata": {},
   "outputs": [
    {
     "name": "stdout",
     "output_type": "stream",
     "text": [
      "286\n"
     ]
    },
    {
     "data": {
      "text/html": [
       "<div>\n",
       "<style scoped>\n",
       "    .dataframe tbody tr th:only-of-type {\n",
       "        vertical-align: middle;\n",
       "    }\n",
       "\n",
       "    .dataframe tbody tr th {\n",
       "        vertical-align: top;\n",
       "    }\n",
       "\n",
       "    .dataframe thead th {\n",
       "        text-align: right;\n",
       "    }\n",
       "</style>\n",
       "<table border=\"1\" class=\"dataframe\">\n",
       "  <thead>\n",
       "    <tr style=\"text-align: right;\">\n",
       "      <th></th>\n",
       "      <th>wsi</th>\n",
       "      <th>roi_name</th>\n",
       "      <th>roi</th>\n",
       "      <th>Unannotated</th>\n",
       "      <th>Invasive tumor</th>\n",
       "      <th>Tumor-associated stroma</th>\n",
       "      <th>In-situ tumor</th>\n",
       "      <th>Healthy glands</th>\n",
       "      <th>Necrosis not in-situ</th>\n",
       "      <th>Inflamed stroma</th>\n",
       "      <th>Rest</th>\n",
       "      <th>Total</th>\n",
       "      <th>name_len</th>\n",
       "      <th>wsi_roi_stem</th>\n",
       "    </tr>\n",
       "  </thead>\n",
       "  <tbody>\n",
       "    <tr>\n",
       "      <th>0</th>\n",
       "      <td>100B</td>\n",
       "      <td>100B_[10779, 11621, 12102, 12874]</td>\n",
       "      <td>0</td>\n",
       "      <td>11605.0</td>\n",
       "      <td>0.0</td>\n",
       "      <td>0.0</td>\n",
       "      <td>0.0</td>\n",
       "      <td>824691.0</td>\n",
       "      <td>0.0</td>\n",
       "      <td>0.0</td>\n",
       "      <td>821423.0</td>\n",
       "      <td>1657719.0</td>\n",
       "      <td>4</td>\n",
       "      <td>100B_ROI0</td>\n",
       "    </tr>\n",
       "    <tr>\n",
       "      <th>1</th>\n",
       "      <td>100B</td>\n",
       "      <td>100B_[21444, 12438, 22739, 13618]</td>\n",
       "      <td>1</td>\n",
       "      <td>4139.0</td>\n",
       "      <td>915948.0</td>\n",
       "      <td>608013.0</td>\n",
       "      <td>0.0</td>\n",
       "      <td>0.0</td>\n",
       "      <td>0.0</td>\n",
       "      <td>0.0</td>\n",
       "      <td>0.0</td>\n",
       "      <td>1528100.0</td>\n",
       "      <td>4</td>\n",
       "      <td>100B_ROI1</td>\n",
       "    </tr>\n",
       "    <tr>\n",
       "      <th>2</th>\n",
       "      <td>100B</td>\n",
       "      <td>100B_[35129, 6567, 36429, 7757]</td>\n",
       "      <td>2</td>\n",
       "      <td>2489.0</td>\n",
       "      <td>0.0</td>\n",
       "      <td>0.0</td>\n",
       "      <td>0.0</td>\n",
       "      <td>48616.0</td>\n",
       "      <td>0.0</td>\n",
       "      <td>0.0</td>\n",
       "      <td>1495895.0</td>\n",
       "      <td>1547000.0</td>\n",
       "      <td>4</td>\n",
       "      <td>100B_ROI2</td>\n",
       "    </tr>\n",
       "    <tr>\n",
       "      <th>3</th>\n",
       "      <td>114S</td>\n",
       "      <td>114S_[25546, 18605, 26758, 19785]</td>\n",
       "      <td>0</td>\n",
       "      <td>5645.0</td>\n",
       "      <td>0.0</td>\n",
       "      <td>0.0</td>\n",
       "      <td>0.0</td>\n",
       "      <td>493543.0</td>\n",
       "      <td>0.0</td>\n",
       "      <td>0.0</td>\n",
       "      <td>930972.0</td>\n",
       "      <td>1430160.0</td>\n",
       "      <td>4</td>\n",
       "      <td>114S_ROI0</td>\n",
       "    </tr>\n",
       "    <tr>\n",
       "      <th>4</th>\n",
       "      <td>114S</td>\n",
       "      <td>114S_[33188, 13944, 34412, 15110]</td>\n",
       "      <td>1</td>\n",
       "      <td>9106.0</td>\n",
       "      <td>578771.0</td>\n",
       "      <td>324146.0</td>\n",
       "      <td>0.0</td>\n",
       "      <td>93936.0</td>\n",
       "      <td>0.0</td>\n",
       "      <td>82968.0</td>\n",
       "      <td>338257.0</td>\n",
       "      <td>1427184.0</td>\n",
       "      <td>4</td>\n",
       "      <td>114S_ROI1</td>\n",
       "    </tr>\n",
       "  </tbody>\n",
       "</table>\n",
       "</div>"
      ],
      "text/plain": [
       "    wsi                           roi_name  roi  Unannotated  Invasive tumor  \\\n",
       "0  100B  100B_[10779, 11621, 12102, 12874]    0      11605.0             0.0   \n",
       "1  100B  100B_[21444, 12438, 22739, 13618]    1       4139.0        915948.0   \n",
       "2  100B    100B_[35129, 6567, 36429, 7757]    2       2489.0             0.0   \n",
       "3  114S  114S_[25546, 18605, 26758, 19785]    0       5645.0             0.0   \n",
       "4  114S  114S_[33188, 13944, 34412, 15110]    1       9106.0        578771.0   \n",
       "\n",
       "   Tumor-associated stroma  In-situ tumor  Healthy glands  \\\n",
       "0                      0.0            0.0        824691.0   \n",
       "1                 608013.0            0.0             0.0   \n",
       "2                      0.0            0.0         48616.0   \n",
       "3                      0.0            0.0        493543.0   \n",
       "4                 324146.0            0.0         93936.0   \n",
       "\n",
       "   Necrosis not in-situ  Inflamed stroma       Rest      Total  name_len  \\\n",
       "0                   0.0              0.0   821423.0  1657719.0         4   \n",
       "1                   0.0              0.0        0.0  1528100.0         4   \n",
       "2                   0.0              0.0  1495895.0  1547000.0         4   \n",
       "3                   0.0              0.0   930972.0  1430160.0         4   \n",
       "4                   0.0          82968.0   338257.0  1427184.0         4   \n",
       "\n",
       "  wsi_roi_stem  \n",
       "0    100B_ROI0  \n",
       "1    100B_ROI1  \n",
       "2    100B_ROI2  \n",
       "3    114S_ROI0  \n",
       "4    114S_ROI1  "
      ]
     },
     "execution_count": 168,
     "metadata": {},
     "output_type": "execute_result"
    }
   ],
   "source": [
    "df_counts['Total'] = df_counts[label_names].sum(axis=1)\n",
    "df_counts['name_len'] = df_counts['wsi'].apply(lambda x: len(x))\n",
    "df_counts['wsi'] = df_counts['roi_name'].apply(lambda x: x.split('_[')[0])\n",
    "df_counts['wsi_roi_stem'] = df_counts['wsi'].astype(str) + '_ROI' + df_counts['roi'].astype(str)\n",
    "print(len(df_counts))\n",
    "df_counts.head()"
   ]
  },
  {
   "cell_type": "code",
   "execution_count": 169,
   "id": "1a374ff2-75df-4e9f-8131-c5ff3f2ffcf8",
   "metadata": {},
   "outputs": [
    {
     "name": "stdout",
     "output_type": "stream",
     "text": [
      "195\n"
     ]
    },
    {
     "data": {
      "text/html": [
       "<div>\n",
       "<style scoped>\n",
       "    .dataframe tbody tr th:only-of-type {\n",
       "        vertical-align: middle;\n",
       "    }\n",
       "\n",
       "    .dataframe tbody tr th {\n",
       "        vertical-align: top;\n",
       "    }\n",
       "\n",
       "    .dataframe thead th {\n",
       "        text-align: right;\n",
       "    }\n",
       "</style>\n",
       "<table border=\"1\" class=\"dataframe\">\n",
       "  <thead>\n",
       "    <tr style=\"text-align: right;\">\n",
       "      <th></th>\n",
       "      <th>wsi</th>\n",
       "      <th>Unannotated</th>\n",
       "      <th>Invasive tumor</th>\n",
       "      <th>Tumor-associated stroma</th>\n",
       "      <th>In-situ tumor</th>\n",
       "      <th>Healthy glands</th>\n",
       "      <th>Necrosis not in-situ</th>\n",
       "      <th>Inflamed stroma</th>\n",
       "      <th>Rest</th>\n",
       "    </tr>\n",
       "  </thead>\n",
       "  <tbody>\n",
       "    <tr>\n",
       "      <th>0</th>\n",
       "      <td>100B</td>\n",
       "      <td>18233.0</td>\n",
       "      <td>915948.0</td>\n",
       "      <td>608013.0</td>\n",
       "      <td>0.0</td>\n",
       "      <td>873307.0</td>\n",
       "      <td>0.0</td>\n",
       "      <td>0.0</td>\n",
       "      <td>2317318.0</td>\n",
       "    </tr>\n",
       "    <tr>\n",
       "      <th>1</th>\n",
       "      <td>114S</td>\n",
       "      <td>23802.0</td>\n",
       "      <td>1157895.0</td>\n",
       "      <td>973313.0</td>\n",
       "      <td>0.0</td>\n",
       "      <td>587479.0</td>\n",
       "      <td>0.0</td>\n",
       "      <td>146354.0</td>\n",
       "      <td>1269229.0</td>\n",
       "    </tr>\n",
       "    <tr>\n",
       "      <th>2</th>\n",
       "      <td>122S</td>\n",
       "      <td>15598.0</td>\n",
       "      <td>1503585.0</td>\n",
       "      <td>676160.0</td>\n",
       "      <td>0.0</td>\n",
       "      <td>0.0</td>\n",
       "      <td>541233.0</td>\n",
       "      <td>0.0</td>\n",
       "      <td>1362750.0</td>\n",
       "    </tr>\n",
       "    <tr>\n",
       "      <th>3</th>\n",
       "      <td>133S</td>\n",
       "      <td>7167.0</td>\n",
       "      <td>875761.0</td>\n",
       "      <td>1896885.0</td>\n",
       "      <td>0.0</td>\n",
       "      <td>0.0</td>\n",
       "      <td>0.0</td>\n",
       "      <td>0.0</td>\n",
       "      <td>1354815.0</td>\n",
       "    </tr>\n",
       "    <tr>\n",
       "      <th>4</th>\n",
       "      <td>134B</td>\n",
       "      <td>15181.0</td>\n",
       "      <td>920642.0</td>\n",
       "      <td>2011274.0</td>\n",
       "      <td>0.0</td>\n",
       "      <td>0.0</td>\n",
       "      <td>0.0</td>\n",
       "      <td>62946.0</td>\n",
       "      <td>1548089.0</td>\n",
       "    </tr>\n",
       "  </tbody>\n",
       "</table>\n",
       "</div>"
      ],
      "text/plain": [
       "    wsi  Unannotated  Invasive tumor  Tumor-associated stroma  In-situ tumor  \\\n",
       "0  100B      18233.0        915948.0                 608013.0            0.0   \n",
       "1  114S      23802.0       1157895.0                 973313.0            0.0   \n",
       "2  122S      15598.0       1503585.0                 676160.0            0.0   \n",
       "3  133S       7167.0        875761.0                1896885.0            0.0   \n",
       "4  134B      15181.0        920642.0                2011274.0            0.0   \n",
       "\n",
       "   Healthy glands  Necrosis not in-situ  Inflamed stroma       Rest  \n",
       "0        873307.0                   0.0              0.0  2317318.0  \n",
       "1        587479.0                   0.0         146354.0  1269229.0  \n",
       "2             0.0              541233.0              0.0  1362750.0  \n",
       "3             0.0                   0.0              0.0  1354815.0  \n",
       "4             0.0                   0.0          62946.0  1548089.0  "
      ]
     },
     "execution_count": 169,
     "metadata": {},
     "output_type": "execute_result"
    }
   ],
   "source": [
    "df_wsi_counts = df_counts[['wsi'] + label_names].groupby('wsi').sum()\n",
    "df_wsi_counts = df_wsi_counts.reset_index()\n",
    "print(len(df_wsi_counts))\n",
    "df_wsi_counts.head()"
   ]
  },
  {
   "cell_type": "code",
   "execution_count": 170,
   "id": "bb9db18b-866e-4a73-abe8-d0918f4bd810",
   "metadata": {},
   "outputs": [],
   "source": [
    "def plot_counts(counts, title):\n",
    "    fig, axs = plt.subplots(1, 1, figsize=(5,5))\n",
    "    fig.suptitle(title, fontsize=15)\n",
    "    bar_list = axs.barh(label_names, counts, height=1) #, height=0.95, log=True)\n",
    "    for i, bar in enumerate(bar_list):\n",
    "        bar.set_color(cmap(label_index[i]))\n",
    "        bar.set_edgecolor(\"black\")\n",
    "    axs.invert_yaxis()\n",
    "    axs.set_title(\"Pixels per label total (x 100 000)\")\n",
    "    for i in range(n_labels):\n",
    "        plt.text(counts[i], i, s=\" \" + str(round(counts[i]/100000, 2)) if counts[i] !=0.0 else \"\", \n",
    "                 ha=\"left\", va=\"center\")\n",
    "    axs.set_xlim(0, axs.get_xlim()[1] + axs.get_xlim()[1]*0.1)\n",
    "    plt.ticklabel_format(style='sci', axis='x', scilimits=(0,0))\n",
    "    plt.tight_layout()\n",
    "    plt.show()"
   ]
  },
  {
   "cell_type": "code",
   "execution_count": 171,
   "id": "e632aa38-ee76-402f-a4ff-c7d075cf94e2",
   "metadata": {},
   "outputs": [],
   "source": [
    "def plot_percentages(counts, title):\n",
    "    sum_total = sum(counts)\n",
    "    percentages = [round((count/sum_total)*100,1) for count in counts]\n",
    "    fig, axs = plt.subplots(1,1, figsize=(5,5))\n",
    "    fig.suptitle(title, fontsize=15)\n",
    "    bar_list = axs.barh(label_names, percentages, height=1) #, height=0.95, log=True)\n",
    "    for i, bar in enumerate(bar_list):\n",
    "        bar.set_color(cmap(label_index[i]))\n",
    "        bar.set_edgecolor(\"black\")\n",
    "    axs.invert_yaxis()\n",
    "    axs.set_title(\"Percentage of total per label\")\n",
    "    for i in range(n_labels):\n",
    "        plt.text(percentages[i], i, s=\" \" + str(percentages[i]), \n",
    "                 ha=\"left\", va=\"center\")\n",
    "    axs.set_xlim(0, axs.get_xlim()[1] + axs.get_xlim()[1]*0.1)\n",
    "    plt.tight_layout()\n",
    "    plt.show()"
   ]
  },
  {
   "cell_type": "code",
   "execution_count": 172,
   "id": "0318f89e-fe6e-4f91-8613-dddb9ed180d4",
   "metadata": {},
   "outputs": [
    {
     "data": {
      "image/png": "[encoded data removed]",
      "text/plain": [
       "<Figure size 360x360 with 1 Axes>"
      ]
     },
     "metadata": {
      "needs_background": "light"
     },
     "output_type": "display_data"
    }
   ],
   "source": [
    "counts_total = df_counts[label_names].sum()\n",
    "plot_percentages(counts_total, \"TOTAL\")"
   ]
  },
  {
   "cell_type": "markdown",
   "id": "a22909d6-8fdc-4493-b6ac-285cc4c1947a",
   "metadata": {},
   "source": [
    "---\n",
    "---\n",
    "# Split"
   ]
  },
  {
   "cell_type": "markdown",
   "id": "86e363e7-24ef-409c-ae7f-2486e7fe4535",
   "metadata": {},
   "source": [
    "##### The logic in brief\n",
    "nnUNet usually splits the training data in 5 random splits. However, we think ist better to have 5 CV splits that have about equal label distributions. Especially because some classes may be quite under represented. \n",
    "\n",
    "To make sure we have equal class abundances in the 5 folds, we'll test 500 seeds of 5 fold splits where we: \n",
    "- check the abundances of the classes in these splits\n",
    "- calculate the 5 distances of the folds' pixel counts to the mean of pixel counts of the 5 folds\n",
    "    - We use MSE loss to calculate the distance of a fold to the mean\n",
    "    - A low loss means the fold is close to the mean\n",
    "- Calculate the mean of the 5 losses\n",
    "- Print the seeds with the lowest losses\n",
    "    - A low loss means that the distances of the 5 folds to their mean are small, meaning they are about the same\n",
    "- You can visualise the train and val label distributions in the end. If you agree its good, use this seed to make the splits json/pkl files \n",
    "\n",
    "##### Final note\n",
    "You can chose to split the 5 folds treating every roi as an individual training case, or you can chose to group ROIs from a single WSI together so they cannot end up in the train and val split of the same fold (recommended)."
   ]
  },
  {
   "cell_type": "code",
   "execution_count": 173,
   "id": "c05519be-e214-46fd-869e-04b79bbb7481",
   "metadata": {},
   "outputs": [],
   "source": [
    "from sklearn.model_selection import KFold"
   ]
  },
  {
   "cell_type": "code",
   "execution_count": 174,
   "id": "f9285edb-9b66-4422-89d4-f53c07166e68",
   "metadata": {},
   "outputs": [],
   "source": [
    "def plot_train_val_fold_counts(counts_train, counts_val, title, label_names=label_names):\n",
    "    fig, axs = plt.subplots(1, 2, figsize=(15,5))\n",
    "    fig.suptitle(title, fontsize=15)\n",
    "    for i_counts, counts in enumerate([counts_train, counts_val]):\n",
    "        bar_list = axs[i_counts].barh(label_names, counts, height=1) #, height=0.95, log=True)\n",
    "        for i_bar, bar in enumerate(bar_list):\n",
    "            bar.set_color(cmap(label_index[i_bar]))\n",
    "            bar.set_edgecolor(\"black\")\n",
    "        axs[i_counts].invert_yaxis()\n",
    "        axs[i_counts].set_title(f\"{'TRAIN - ' if i_counts == 0 else 'VAL - '}Pixels per label total (x 100 000)\")\n",
    "        n = len(label_names)\n",
    "        for i_label in range(n):\n",
    "            axs[i_counts].text(counts[i_label], i_label, s=\" \" + str(round(counts[i_label]/100000, 2)) if counts[i_label] !=0.0 else \"\", \n",
    "                     ha=\"left\", va=\"center\")\n",
    "        axs[i_counts].set_xlim(0, axs[i_counts].get_xlim()[1] + axs[i_counts].get_xlim()[1]*0.1)\n",
    "    plt.ticklabel_format(style='sci', axis='x', scilimits=(0,0))\n",
    "    plt.tight_layout()\n",
    "    plt.show()"
   ]
  },
  {
   "cell_type": "markdown",
   "id": "8a25a07d-8efa-40dc-ab69-aadbd1c3dc2d",
   "metadata": {
    "tags": []
   },
   "source": [
    "## Loss on distributions"
   ]
  },
  {
   "cell_type": "code",
   "execution_count": 175,
   "id": "8db317fe-20fb-4811-8495-a04dad6d6f1c",
   "metadata": {},
   "outputs": [],
   "source": [
    "import torch"
   ]
  },
  {
   "cell_type": "code",
   "execution_count": 176,
   "id": "eafeac19-4384-4f68-bd49-da6f53668cc5",
   "metadata": {},
   "outputs": [],
   "source": [
    "def array_to_formatted_tensor(array):\n",
    "    tens = torch.tensor(np.array([array]))\n",
    "    return tens"
   ]
  },
  {
   "cell_type": "markdown",
   "id": "cfa6eb6f-74b2-46cb-9b11-c78ae2a1e0e0",
   "metadata": {},
   "source": [
    "### Claculate the mean MSE losses over percentages of indivudual folds and their mean\n",
    "if this mean distance is small it means that the 5 folds' label percentages are close to the mean, meaning they are about the same. We want the seed where this loss is the lowest"
   ]
  },
  {
   "cell_type": "code",
   "execution_count": 177,
   "id": "8910f357-3f9f-4c71-b265-76c851dcbf3d",
   "metadata": {},
   "outputs": [],
   "source": [
    "def counts_list_and_mean_to_loss(counts_list, counts_mean, log=False):\n",
    "    loss = torch.nn.MSELoss(reduction='none') # feel free to try other losses\n",
    "    loss_per_fold_list = []\n",
    "    for counts in counts_list:\n",
    "        loss_per_fold = loss(array_to_formatted_tensor(counts), \n",
    "                             array_to_formatted_tensor(counts_mean))\n",
    "        if log:         \n",
    "            loss_per_fold_list.append(np.log10(loss_per_fold + 0.00000001))\n",
    "        else:\n",
    "            loss_per_fold_list.append(loss_per_fold)\n",
    "        # print(np.log(loss_per_fold))\n",
    "    # print(loss_per_fold_list)\n",
    "    mean_loss = torch.cat(loss_per_fold_list).mean()\n",
    "    # mean_loss = np.mean(loss_per_fold_list)\n",
    "    return mean_loss"
   ]
  },
  {
   "cell_type": "markdown",
   "id": "9213d760-54be-4006-95b2-7cda49dc9fd7",
   "metadata": {},
   "source": [
    "### Split ROIs individually or grouped based on their WSI (advised to chose WSI to prevent train and validation data mixup --> overfitting)"
   ]
  },
  {
   "cell_type": "code",
   "execution_count": 178,
   "id": "1b4c1166-c9d4-4d8f-aa9f-a61bd4472ad8",
   "metadata": {},
   "outputs": [],
   "source": [
    "wsi_or_roi_based = 'wsi' # 'roi'"
   ]
  },
  {
   "cell_type": "markdown",
   "id": "af20cbb5-5061-4111-87f4-8f58050c9bc6",
   "metadata": {},
   "source": [
    "### WSI based"
   ]
  },
  {
   "cell_type": "code",
   "execution_count": 179,
   "id": "c8de8b63-ecbc-435d-8400-e716750252a9",
   "metadata": {},
   "outputs": [],
   "source": [
    "if wsi_or_roi_based == 'wsi':\n",
    "    important_classes = label_names\n",
    "\n",
    "    percentages = True\n",
    "\n",
    "    train_distribution_losses = []\n",
    "    train_distribution_losses_log = []\n",
    "    val_distribution_losses = []\n",
    "    val_distribution_losses_log = []\n",
    "    for i in range(500):\n",
    "        random_state= i\n",
    "\n",
    "        df_wsi_counts['val_fold'] = [None]*len(df_wsi_counts)\n",
    "        folds=5\n",
    "        fold_splits = {}\n",
    "\n",
    "        k5 = KFold(n_splits=folds, shuffle=True, random_state=i) \n",
    "        for fold, indexes in enumerate(k5.split(df_wsi_counts['wsi'])):\n",
    "            fold_splits[fold] = indexes \n",
    "            df_wsi_counts.loc[fold_splits[fold][1], 'val_fold'] = fold\n",
    "        train_counts_list = []\n",
    "        val_counts_list = []\n",
    "        for fold in range(folds):\n",
    "            counts_train = list(df_wsi_counts.loc[fold_splits[fold][0], important_classes].sum())\n",
    "            if percentages == True:\n",
    "                counts_train = np.array(counts_train)/sum(counts_train)\n",
    "            train_counts_list.append(counts_train)\n",
    "            counts_val = list(df_wsi_counts.loc[fold_splits[fold][1], important_classes].sum())\n",
    "            if percentages == True:\n",
    "                counts_val = np.array(counts_val)/sum(counts_val)\n",
    "            val_counts_list.append(counts_val)\n",
    "\n",
    "        train_counts_mean = np.mean(train_counts_list, 0)\n",
    "        train_distribution_loss = counts_list_and_mean_to_loss(train_counts_list, train_counts_mean)\n",
    "        train_distribution_losses.append(float(train_distribution_loss))\n",
    "        train_distribution_loss_log = counts_list_and_mean_to_loss(train_counts_list, train_counts_mean, log=True)\n",
    "        train_distribution_losses_log.append(float(train_distribution_loss_log))\n",
    "\n",
    "        val_counts_mean = np.mean(val_counts_list, 0)\n",
    "        val_distribution_loss = counts_list_and_mean_to_loss(val_counts_list, val_counts_mean)\n",
    "        val_distribution_losses.append(float(val_distribution_loss))\n",
    "        val_distribution_loss_log = counts_list_and_mean_to_loss(val_counts_list, val_counts_mean, log=True)\n",
    "        val_distribution_losses_log.append(float(val_distribution_loss_log))"
   ]
  },
  {
   "cell_type": "code",
   "execution_count": 180,
   "id": "ca7e4d29-7631-460d-8b05-88725dd29813",
   "metadata": {},
   "outputs": [],
   "source": [
    "def print_best_dist_loss(dist_losses):\n",
    "    idx = dist_losses.index(min(dist_losses))\n",
    "    print(idx, ':', dist_losses[idx])"
   ]
  },
  {
   "cell_type": "code",
   "execution_count": 181,
   "id": "dc1abb56-1c95-434e-96f0-6008aa24e015",
   "metadata": {},
   "outputs": [
    {
     "name": "stdout",
     "output_type": "stream",
     "text": [
      "343 : 8.64864680354427e-06\n",
      "453 : -5.735637971233006\n"
     ]
    }
   ],
   "source": [
    "if wsi_or_roi_based == 'wsi':\n",
    "    print_best_dist_loss(train_distribution_losses)\n",
    "    print_best_dist_loss(train_distribution_losses_log)"
   ]
  },
  {
   "cell_type": "code",
   "execution_count": 182,
   "id": "31f74fa7-d3a8-408c-a5fa-ebac9e4743e0",
   "metadata": {},
   "outputs": [
    {
     "name": "stdout",
     "output_type": "stream",
     "text": [
      "343 : 0.00014826939624731596\n",
      "122 : -4.577769866366427\n"
     ]
    }
   ],
   "source": [
    "if wsi_or_roi_based == 'wsi':\n",
    "    print_best_dist_loss(val_distribution_losses)\n",
    "    print_best_dist_loss(val_distribution_losses_log)"
   ]
  },
  {
   "cell_type": "markdown",
   "id": "4b182b68-ee43-450f-ae46-a476222e99b4",
   "metadata": {},
   "source": [
    "#### I often visualise all of the seeds above (check code below) to check which one I like the most. Often a seed occurs multiple times, probably the best"
   ]
  },
  {
   "cell_type": "markdown",
   "id": "d64b94aa-94c7-411f-b9ff-a71ce2b14880",
   "metadata": {},
   "source": [
    "### ROI based"
   ]
  },
  {
   "cell_type": "code",
   "execution_count": 183,
   "id": "0e19d2da-f136-437c-99c8-c281fbdf65d9",
   "metadata": {},
   "outputs": [],
   "source": [
    "if wsi_or_roi_based == 'roi':\n",
    "    important_classes = label_names\n",
    "\n",
    "    percentages = True\n",
    "\n",
    "    train_distribution_losses = []\n",
    "    train_distribution_losses_log = []\n",
    "    val_distribution_losses = []\n",
    "    val_distribution_losses_log = []\n",
    "    for i in range(500):\n",
    "        random_state= i\n",
    "\n",
    "        df_counts['val_fold'] = [None]*len(df_counts)\n",
    "        folds=5\n",
    "        fold_splits = {}\n",
    "\n",
    "        k5 = KFold(n_splits=folds, shuffle=True, random_state=i) \n",
    "        for fold, indexes in enumerate(k5.split(df_counts['wsi_roi_stem'])):\n",
    "            fold_splits[fold] = indexes \n",
    "            df_counts.loc[fold_splits[fold][1], 'val_fold'] = fold\n",
    "        train_counts_list = []\n",
    "        val_counts_list = []\n",
    "        for fold in range(folds):\n",
    "            counts_train = list(df_counts.loc[fold_splits[fold][0], important_classes].sum())\n",
    "            if percentages == True:\n",
    "                counts_train = np.array(counts_train)/sum(counts_train)\n",
    "            train_counts_list.append(counts_train)\n",
    "            counts_val = list(df_counts.loc[fold_splits[fold][1], important_classes].sum())\n",
    "            if percentages == True:\n",
    "                counts_val = np.array(counts_val)/sum(counts_val)\n",
    "            val_counts_list.append(counts_val)\n",
    "\n",
    "        train_counts_mean = np.mean(train_counts_list, 0)\n",
    "        train_distribution_loss = counts_list_and_mean_to_loss(train_counts_list, train_counts_mean)\n",
    "        train_distribution_losses.append(float(train_distribution_loss))\n",
    "        train_distribution_loss_log = counts_list_and_mean_to_loss(train_counts_list, train_counts_mean, log=True)\n",
    "        train_distribution_losses_log.append(float(train_distribution_loss_log))\n",
    "\n",
    "        val_counts_mean = np.mean(val_counts_list, 0)\n",
    "        val_distribution_loss = counts_list_and_mean_to_loss(val_counts_list, val_counts_mean)\n",
    "        val_distribution_losses.append(float(val_distribution_loss))\n",
    "        val_distribution_loss_log = counts_list_and_mean_to_loss(val_counts_list, val_counts_mean, log=True)\n",
    "        val_distribution_losses_log.append(float(val_distribution_loss_log))"
   ]
  },
  {
   "cell_type": "code",
   "execution_count": 184,
   "id": "a8e76bf2-bfd7-4611-a4a9-53e344179957",
   "metadata": {},
   "outputs": [],
   "source": [
    "def print_best_dist_loss(dist_losses):\n",
    "    idx = dist_losses.index(min(dist_losses))\n",
    "    print(idx, ':', dist_losses[idx])"
   ]
  },
  {
   "cell_type": "code",
   "execution_count": 185,
   "id": "43c954ed-7178-4eb3-beb5-bb120ef00a8a",
   "metadata": {},
   "outputs": [],
   "source": [
    "if wsi_or_roi_based == 'roi':\n",
    "    print_best_dist_loss(train_distribution_losses)\n",
    "    print_best_dist_loss(train_distribution_losses_log)"
   ]
  },
  {
   "cell_type": "code",
   "execution_count": 186,
   "id": "f76b7118-9650-4086-83e3-f956ffe31ed1",
   "metadata": {},
   "outputs": [],
   "source": [
    "if wsi_or_roi_based == 'roi':\n",
    "    print_best_dist_loss(val_distribution_losses)\n",
    "    print_best_dist_loss(val_distribution_losses_log)"
   ]
  },
  {
   "cell_type": "markdown",
   "id": "0ac164d8-daf7-4aa7-8a0d-1e6310b7be4b",
   "metadata": {},
   "source": [
    "# Final split"
   ]
  },
  {
   "cell_type": "markdown",
   "id": "76651b93-9ade-4684-9cf0-42d0c4f6d862",
   "metadata": {},
   "source": [
    "### Make sure you add your best seed below"
   ]
  },
  {
   "cell_type": "markdown",
   "id": "f34539b2-bacb-47a6-a67b-9a34b7852a5d",
   "metadata": {},
   "source": [
    "### WSI based"
   ]
  },
  {
   "cell_type": "code",
   "execution_count": 187,
   "id": "3b5f2eea-c62b-4238-9551-85c20b340415",
   "metadata": {},
   "outputs": [],
   "source": [
    "if wsi_or_roi_based == 'wsi':\n",
    "    random_state= 343 # <- for all data : 343\n",
    "else: \n",
    "    print('set to split based on ROI, not WSI')"
   ]
  },
  {
   "cell_type": "code",
   "execution_count": 188,
   "id": "fde3b3ae-9ead-4f04-974c-85ac83e955e9",
   "metadata": {},
   "outputs": [
    {
     "name": "stdout",
     "output_type": "stream",
     "text": [
      "[  3  11  12  14  20  27  29  31  40  45  48  53  59  61  67  71  72  73\n",
      "  80  85  87  94  95  97 102 112 117 136 141 142 153 155 158 159 168 182\n",
      " 183 188 190]\n"
     ]
    },
    {
     "data": {
      "image/png": "[encoded data removed]",
      "text/plain": [
       "<Figure size 1080x360 with 2 Axes>"
      ]
     },
     "metadata": {
      "needs_background": "light"
     },
     "output_type": "display_data"
    },
    {
     "name": "stdout",
     "output_type": "stream",
     "text": [
      "[  1   4   6   7  16  19  23  24  28  30  32  33  41  55  56  57  64  68\n",
      "  69  75  76  81  91  99 107 109 115 122 127 129 134 138 139 143 148 157\n",
      " 170 175 180]\n"
     ]
    },
    {
     "data": {
      "image/png": "[encoded data removed]",
      "text/plain": [
       "<Figure size 1080x360 with 2 Axes>"
      ]
     },
     "metadata": {
      "needs_background": "light"
     },
     "output_type": "display_data"
    },
    {
     "name": "stdout",
     "output_type": "stream",
     "text": [
      "[  8   9  10  15  26  35  36  44  46  50  52  70  84  86  89  90 100 101\n",
      " 103 106 111 118 120 124 128 135 137 144 145 149 156 160 161 171 173 179\n",
      " 189 193 194]\n"
     ]
    },
    {
     "data": {
      "image/png": "[encoded data removed]",
      "text/plain": [
       "<Figure size 1080x360 with 2 Axes>"
      ]
     },
     "metadata": {
      "needs_background": "light"
     },
     "output_type": "display_data"
    },
    {
     "name": "stdout",
     "output_type": "stream",
     "text": [
      "[  0   2  17  18  25  37  42  47  49  54  58  60  66  77  78  82  83  88\n",
      "  93  96  98 104 105 119 121 123 126 131 133 154 162 165 166 167 169 177\n",
      " 185 186 187]\n"
     ]
    },
    {
     "data": {
      "image/png": "[encoded data removed]",
      "text/plain": [
       "<Figure size 1080x360 with 2 Axes>"
      ]
     },
     "metadata": {
      "needs_background": "light"
     },
     "output_type": "display_data"
    },
    {
     "name": "stdout",
     "output_type": "stream",
     "text": [
      "[  5  13  21  22  34  38  39  43  51  62  63  65  74  79  92 108 110 113\n",
      " 114 116 125 130 132 140 146 147 150 151 152 163 164 172 174 176 178 181\n",
      " 184 191 192]\n"
     ]
    },
    {
     "data": {
      "image/png": "[encoded data removed]",
      "text/plain": [
       "<Figure size 1080x360 with 2 Axes>"
      ]
     },
     "metadata": {
      "needs_background": "light"
     },
     "output_type": "display_data"
    }
   ],
   "source": [
    "if wsi_or_roi_based == 'wsi':\n",
    "    important_classes=label_names\n",
    "    df_wsi_counts['val_fold'] = [None]*len(df_wsi_counts)\n",
    "    folds=5\n",
    "    fold_splits = {}\n",
    "\n",
    "    k5 = KFold(n_splits=folds, shuffle=True, random_state=random_state) \n",
    "    for fold, indexes in enumerate(k5.split(df_wsi_counts['wsi'])):\n",
    "        fold_splits[fold] = indexes \n",
    "        df_wsi_counts.loc[fold_splits[fold][1], 'val_fold'] = fold\n",
    "    train_counts_list = []\n",
    "    val_counts_list = []\n",
    "    for fold in range(folds):\n",
    "        print(fold_splits[fold][1])\n",
    "        counts_train = list(df_wsi_counts.loc[fold_splits[fold][0], important_classes].sum())\n",
    "        train_counts_list.append(counts_train)\n",
    "        counts_val = list(df_wsi_counts.loc[fold_splits[fold][1], important_classes].sum())\n",
    "        val_counts_list.append(counts_val)\n",
    "        title = f'Fold {fold}'\n",
    "        plot_train_val_fold_counts(counts_train, counts_val, title, label_names=important_classes)\n",
    "else: \n",
    "    print('set to split based on ROI, not WSI')"
   ]
  },
  {
   "cell_type": "markdown",
   "id": "9f1f25f3-c577-49a5-a828-1ff61ec37f3c",
   "metadata": {
    "tags": []
   },
   "source": [
    "### ROI based"
   ]
  },
  {
   "cell_type": "code",
   "execution_count": 189,
   "id": "e14bd41e-8ec8-4fd6-8b4e-82f5b6b968cc",
   "metadata": {},
   "outputs": [
    {
     "name": "stdout",
     "output_type": "stream",
     "text": [
      "set to split based on WSI, not ROI\n"
     ]
    }
   ],
   "source": [
    "if wsi_or_roi_based == 'roi':\n",
    "    random_state= 367\n",
    "else: \n",
    "    print('set to split based on WSI, not ROI')"
   ]
  },
  {
   "cell_type": "code",
   "execution_count": 190,
   "id": "05d13477-7dec-4b37-9525-05eabd428587",
   "metadata": {},
   "outputs": [
    {
     "name": "stdout",
     "output_type": "stream",
     "text": [
      "set to split based on WSI, not ROI\n"
     ]
    }
   ],
   "source": [
    "if wsi_or_roi_based == 'roi':\n",
    "    important_classes=label_names\n",
    "\n",
    "    df_counts['val_fold'] = [None]*len(df_counts)\n",
    "\n",
    "    folds=5\n",
    "    fold_splits = {}\n",
    "\n",
    "    k5 = KFold(n_splits=folds, shuffle=True, random_state=random_state) \n",
    "    for fold, indexes in enumerate(k5.split(df_counts['wsi_roi_stem'])):\n",
    "        fold_splits[fold] = indexes \n",
    "        df_counts.loc[fold_splits[fold][1], 'val_fold'] = fold\n",
    "    train_counts_list = []\n",
    "    val_counts_list = []\n",
    "    for fold in range(folds):\n",
    "        counts_train = list(df_counts.loc[fold_splits[fold][0], important_classes].sum())\n",
    "        train_counts_list.append(counts_train)\n",
    "        counts_val = list(df_counts.loc[fold_splits[fold][1], important_classes].sum())\n",
    "        val_counts_list.append(counts_val)\n",
    "        title = f'Fold {fold}'\n",
    "        plot_train_val_fold_counts(counts_train, counts_val, title, label_names=important_classes)\n",
    "else: \n",
    "    print('set to split based on WSI, not ROI')"
   ]
  },
  {
   "cell_type": "markdown",
   "id": "0b3383a7-be2a-49b3-994d-a2959c2b6992",
   "metadata": {},
   "source": [
    "## Prep split json/pkl\n",
    "json for readability, pkl is used by nnUNet"
   ]
  },
  {
   "cell_type": "code",
   "execution_count": 191,
   "id": "96d75a5c-bec0-4e6d-9baf-eed923c00fa2",
   "metadata": {},
   "outputs": [],
   "source": [
    "from collections import OrderedDict"
   ]
  },
  {
   "cell_type": "code",
   "execution_count": 192,
   "id": "a6cc1662-03a8-4444-a584-fb8611535162",
   "metadata": {},
   "outputs": [],
   "source": [
    "from batchgenerators.utilities.file_and_folder_operations import load_pickle, save_pickle"
   ]
  },
  {
   "cell_type": "code",
   "execution_count": 193,
   "id": "5c1a425a-1907-4c1a-a990-3191844bc5f7",
   "metadata": {},
   "outputs": [],
   "source": [
    "if wsi_or_roi_based == 'wsi':\n",
    "    df_counts['val_fold'] = [None]*len(df_counts)\n",
    "    for fold in range(folds):\n",
    "        val = list(df_wsi_counts[df_wsi_counts['val_fold']==fold]['wsi'])\n",
    "        idx = df_counts[df_counts['wsi'].isin(val)].index\n",
    "        df_counts.loc[idx, 'val_fold'] = fold\n",
    "else: \n",
    "    print('set to split based on ROI, not WSI')"
   ]
  },
  {
   "cell_type": "code",
   "execution_count": 194,
   "id": "27fc17f6-17ce-44fa-92d0-70d6034f9eaf",
   "metadata": {},
   "outputs": [],
   "source": [
    "if wsi_or_roi_based == 'roi':\n",
    "    df_counts['val_fold'] = [None]*len(df_counts)\n",
    "    for fold in range(folds):\n",
    "        idx = fold_splits[fold][1]\n",
    "        df_counts.loc[idx, 'val_fold'] = fold\n",
    "else: \n",
    "    print('set to split based on WSI, not ROI')"
   ]
  },
  {
   "cell_type": "code",
   "execution_count": 195,
   "id": "60004b96-a921-4aad-bf34-4f39cf79d06f",
   "metadata": {
    "tags": []
   },
   "outputs": [],
   "source": [
    "data_split_json = []\n",
    "for fold in range(folds):\n",
    "    val = list(df_counts[df_counts['val_fold']==fold]['roi_name'])\n",
    "    train = list(df_counts[df_counts['val_fold']!=fold]['roi_name'])\n",
    "    data_split_json.append(OrderedDict(train=train, val=val))\n",
    "# data_split_json"
   ]
  },
  {
   "cell_type": "markdown",
   "id": "811ef14e-ffef-464e-a493-74daa4972b41",
   "metadata": {},
   "source": [
    "### Save the JSON and PKL split files in the preprocessed folder \n",
    "#### This is where nnUNet looks for it, if there is no split file, it does a random split"
   ]
  },
  {
   "cell_type": "code",
   "execution_count": 54,
   "id": "3fe29c66-fa16-4b2f-8c3b-989d4deb95a9",
   "metadata": {},
   "outputs": [],
   "source": [
    "os.makedirs(os.path.join(preprocessed_root, task_name), exist_ok=True)\n",
    "data_split_json_path = os.path.join(preprocessed_root, task_name, \"splits_final.json\")\n",
    "data_split_pkl_path = os.path.join(preprocessed_root, task_name, \"splits_final.pkl\")\n",
    "with open(data_split_json_path, \"w\") as fp:\n",
    "    json.dump(fp=fp, obj=data_split_json)\n",
    "save_pickle(data_split_json, data_split_pkl_path)"
   ]
  },
  {
   "cell_type": "markdown",
   "id": "c918f673-9bbd-4a8a-90fa-1c1d0a34e151",
   "metadata": {},
   "source": [
    "---\n",
    "---\n",
    "# Make nifti files"
   ]
  },
  {
   "cell_type": "markdown",
   "id": "08e778de-73e1-4529-92e2-6b402edf7441",
   "metadata": {},
   "source": [
    "### Transform to nifti function"
   ]
  },
  {
   "cell_type": "code",
   "execution_count": 55,
   "id": "11382deb",
   "metadata": {},
   "outputs": [],
   "source": [
    "def convert_2d_image_to_nifti(input_filename: str, output_filename_truncated: str, spacing=(999, 1, 1),\n",
    "                              transform=None, is_seg: bool = False) -> None:\n",
    "    \"\"\"\n",
    "    Reads an image (must be a format that it recognized by skimage.io.imread) and converts it into a series of niftis.\n",
    "    The image can have an arbitrary number of input channels which will be exported separately (_0000.nii.gz,\n",
    "    _0001.nii.gz, etc for images and only .nii.gz for seg).\n",
    "    Spacing can be ignored most of the time.\n",
    "    !!!2D images are often natural images which do not have a voxel spacing that could be used for resampling. These images\n",
    "    must be resampled by you prior to converting them to nifti!!!\n",
    "    Datasets converted with this utility can only be used with the 2d U-Net configuration of nnU-Net\n",
    "    If Transform is not None it will be applied to the image after loading.\n",
    "    Segmentations will be converted to np.uint32!\n",
    "    :param is_seg:\n",
    "    :param transform:\n",
    "    :param input_filename:\n",
    "    :param output_filename_truncated: do not use a file ending for this one! Example: output_name='./converted/image1'. This\n",
    "    function will add the suffix (_0000) and file ending (.nii.gz) for you.\n",
    "    :param spacing:\n",
    "    :return:\n",
    "    \"\"\"\n",
    "    # img = io.imread(input_filename)\n",
    "    img = input_filename\n",
    "\n",
    "    if transform is not None:\n",
    "        img = transform(img)\n",
    "\n",
    "    if len(img.shape) == 2:  # 2d image with no color channels\n",
    "        img = img[None, None]  # add dimensions\n",
    "    else:\n",
    "        assert len(img.shape) == 3, \"image should be 3d with color channel last but has shape %s\" % str(img.shape)\n",
    "        # we assume that the color channel is the last dimension. Transpose it to be in first\n",
    "        img = img.transpose((2, 0, 1))\n",
    "        # add third dimension\n",
    "        img = img[:, None]\n",
    "\n",
    "    # image is now (c, x, x, z) where x=1 since it's 2d\n",
    "    if is_seg:\n",
    "        assert img.shape[0] == 1, 'segmentations can only have one color channel, not sure what happened here'\n",
    "\n",
    "    for j, i in enumerate(img):\n",
    "\n",
    "        if is_seg:\n",
    "            # print(i)\n",
    "            i = i.astype(np.uint32)\n",
    "            # print(i)\n",
    "\n",
    "        itk_img = sitk.GetImageFromArray(i)\n",
    "        itk_img.SetSpacing(list(spacing)[::-1])\n",
    "        if not is_seg:\n",
    "            sitk.WriteImage(itk_img, output_filename_truncated + \"_%04.0d.nii.gz\" % j)\n",
    "#             print(itk_img)\n",
    "        else:\n",
    "            sitk.WriteImage(itk_img, output_filename_truncated + \".nii.gz\")\n",
    "#             print(itk_img)"
   ]
  },
  {
   "cell_type": "code",
   "execution_count": 65,
   "id": "2523341e-abd8-491d-a48d-d22fe6d48be1",
   "metadata": {},
   "outputs": [],
   "source": [
    "verbose = False\n",
    "start_at = 0"
   ]
  },
  {
   "cell_type": "code",
   "execution_count": 66,
   "id": "e3e7bd38",
   "metadata": {
    "tags": []
   },
   "outputs": [
    {
     "name": "stdout",
     "output_type": "stream",
     "text": [
      "\tnifti files created for TCGA-BH-A1F6-01Z-00-DX1.E83F0DC0-EA2C-4641-81B0-8702B9C5D579_[26906, 24954, 29942, 27302]\n",
      "\tnifti files created for TCGA-BH-A1FC-01Z-00-DX1.B816A21B-1559-42F5-902A-A1532E59C015_[26110, 16680, 29588, 18768]\n",
      "\tnifti files created for TCGA-BH-A42U-01Z-00-DX1.130D060A-3DD8-407E-B8B0-EBBF743491AE_[36029, 44325, 37195, 44971]\n",
      "\tnifti files created for TCGA-C8-A12V-01Z-00-DX1.84B29360-B87B-4648-A697-B6610336C2BB_[5530, 27203, 9336, 29567]\n",
      "\tnifti files created for TCGA-C8-A131-01Z-00-DX1.5CB27A29-9951-40B9-B4DB-26A4D2EA89B8_[21527, 5449, 23121, 6792]\n",
      "\tnifti files created for TCGA-C8-A1HJ-01Z-00-DX1.745159F1-85E7-4CC0-B088-E1CA91916FB8_[23208, 8589, 25914, 10328]\n",
      "\tnifti files created for TCGA-C8-A26X-01Z-00-DX1.FBD86F91-BAD7-4484-8D50-202340FBF242_[4498, 13776, 7553, 17906]\n",
      "\tnifti files created for TCGA-C8-A26Y-01Z-00-DX1.166EE604-4EF3-401D-99E9-3A9711316CC4_[14878, 18388, 17970, 21037]\n",
      "\tnifti files created for TCGA-C8-A27B-01Z-00-DX1.5A8A14E8-6430-4147-9C71-805024E098CB_[26318, 5677, 31673, 7450]\n",
      "\tnifti files created for TCGA-C8-A3M7-01Z-00-DX1.846C75F1-2E7E-44F7-B21F-C246141558FA_[20841, 33467, 22326, 37425]\n",
      "\tnifti files created for TCGA-D8-A13Z-01Z-00-DX1.517140BB-D34C-42F8-952C-340EF16D382F_[15495, 24671, 19559, 27355]\n",
      "\tnifti files created for TCGA-D8-A142-01Z-00-DX1.F6D58989-9120-40C9-918D-6B1650C1A8E8_[31079, 20672, 36719, 26258]\n",
      "\tnifti files created for TCGA-D8-A143-01Z-00-DX1.4697FB2F-91D5-4506-AF23-7DE304D44A3F_[26217, 9741, 29939, 12599]\n",
      "\tnifti files created for TCGA-D8-A147-01Z-00-DX1.159094F2-BB78-4910-B7AE-3D7CAAB1DAD9_[33200, 9652, 34733, 11013]\n",
      "\tnifti files created for TCGA-D8-A1JF-01Z-00-DX1.224EDA43-F822-4A88-814A-BA7D4C60F8CC_[12435, 26176, 14943, 28605]\n",
      "\tnifti files created for TCGA-D8-A1JG-01Z-00-DX1.BA6D5CC7-3A9B-4D17-A86A-B159D345A216_[7842, 34605, 11067, 38798]\n",
      "\tnifti files created for TCGA-D8-A1JL-01Z-00-DX1.FE3F0C6B-F98A-4036-BF9A-25A8CC66B1FD_[19886, 12421, 25808, 16345]\n",
      "\tnifti files created for TCGA-D8-A1XK-01Z-00-DX1.41EB1BBC-F230-4E3F-8C4E-CE331CAF1935_[13172, 25139, 14973, 26593]\n",
      "\tnifti files created for TCGA-D8-A1XQ-01Z-00-DX1.1A17A5C7-F14B-4AD2-AD5F-D3400D86A366_[30633, 16662, 33761, 19368]\n",
      "\tnifti files created for TCGA-D8-A27F-01Z-00-DX1.C1A87F27-49F1-46BA-B2E2-A89293F7FD0C_[49397, 3366, 51720, 6594]\n",
      "\tnifti files created for TCGA-D8-A27H-01Z-00-DX1.BE9DFDD4-97C5-4327-B1DA-4B34A6F267C5_[4372, 4035, 6057, 5859]\n",
      "\tnifti files created for TCGA-D8-A27M-01Z-00-DX1.3020D223-2400-4A2D-8BFE-08A5B78FE13B_[27240, 8058, 30506, 10731]\n",
      "\tnifti files created for TCGA-E2-A14N-01Z-00-DX1.15F5644F-CA9F-4688-B56E-BCC00CA4769B_[10694, 33422, 14754, 36031]\n",
      "\tnifti files created for TCGA-E2-A14R-01Z-00-DX1.DDE62ED5-1FC0-4B3B-A874-95C08B33AB20_[3878, 29656, 5227, 30983]\n",
      "\tnifti files created for TCGA-E2-A14X-01Z-00-DX1.24ADDA43-F127-4A6B-9AAD-2FAD982A853D_[44420, 33199, 46909, 36075]\n",
      "\tnifti files created for TCGA-E2-A150-01Z-00-DX1.55643D23-83E6-4058-8EA5-18AAA8547839_[21044, 31059, 23496, 32976]\n",
      "\tnifti files created for TCGA-E2-A158-01Z-00-DX1.994C60FE-E651-4224-95E7-4669834F2338_[28044, 12938, 29951, 14228]\n",
      "\tnifti files created for TCGA-E2-A159-01Z-00-DX1.C8DC3356-CAE9-4E7A-AEFF-ABB4BE38192B_[19312, 14352, 23134, 16550]\n",
      "\tnifti files created for TCGA-E2-A1AZ-01Z-00-DX1.FE769F5F-385B-4DCF-819A-735C98D84FA8_[25145, 8540, 26788, 10387]\n",
      "\tnifti files created for TCGA-E2-A1B6-01Z-00-DX1.8CD458BE-C4F9-4AF3-A927-18C042E9B4B7_[8137, 25320, 11197, 28444]\n",
      "\tnifti files created for TCGA-E2-A1L7-01Z-00-DX1.BE796CD2-2E81-44E8-8CA2-85B4D2A31B64_[25780, 7715, 29529, 10487]\n",
      "\tnifti files created for TCGA-E2-A1LH-01Z-00-DX1.F85384B7-1EBF-4F57-A45B-4A668B68E535_[11388, 12077, 13353, 13975]\n",
      "\tnifti files created for TCGA-E2-A1LI-01Z-00-DX1.503dd2fa-23ef-4b11-8aab-301e069eaa88_[22360, 9220, 26181, 12489]\n",
      "\tnifti files created for TCGA-E2-A1LK-01Z-00-DX1.5EBAA1F4-F1B4-4938-A51F-0246621BB0ED_[37809, 13799, 40829, 17747]\n",
      "\tnifti files created for TCGA-E2-A1LL-01Z-00-DX1.D1AA1613-902C-4579-9612-48A76042B0AE_[2894, 11391, 4834, 13389]\n",
      "\tnifti files created for TCGA-E2-A1LS-01Z-00-DX1.9a43a58a-df40-4375-8456-ef0071bc9eb9_[19626, 23880, 21211, 25293]\n",
      "\tnifti files created for TCGA-E2-A573-01Z-00-DX1.D6633BC2-524D-4153-952F-6B1D8D067370_[29836, 28073, 32041, 29652]\n",
      "\tnifti files created for TCGA-E2-A574-01Z-00-DX1.60341091-B118-4F20-9ADB-FB2886790B0E_[27484, 23741, 30063, 26458]\n",
      "\tnifti files created for TCGA-E9-A5FL-01Z-00-DX1.FB810D6A-303E-45DF-BEF1-D9CE83B4417E_[22800, 23644, 25475, 28759]\n",
      "\tnifti files created for TCGA-EW-A1OV-01Z-00-DX1.93698123-5B34-4163-848B-2D75A5F7B001_[63016, 32569, 66793, 37935]\n",
      "\tnifti files created for TCGA-EW-A1OW-01Z-00-DX1.97888686-EBB6-4B13-AB5D-452F475E865B_[18054, 24843, 22167, 29264]\n",
      "\tnifti files created for TCGA-EW-A1P1-01Z-00-DX1.4B670029-4B3B-4D76-8EA4-F4F29EEF9E37_[25286, 19496, 27917, 21851]\n",
      "\tnifti files created for TCGA-EW-A1P4-01Z-00-DX1.3E9AE553-83D4-4B09-AB7F-D096BCE3BC4D_[8630, 17717, 11173, 19809]\n",
      "\tnifti files created for TCGA-EW-A1P7-01Z-00-DX1.97575C9F-C318-45A5-A4B7-1A902B93FA3F_[4906, 23200, 6692, 25690]\n",
      "\tnifti files created for TCGA-EW-A1P8-01Z-00-DX1.E9852193-8CDD-49EF-B49B-DA6931198F0D_[7764, 13194, 10067, 15554]\n",
      "\tnifti files created for TCGA-EW-A1PB-01Z-00-DX1.B2E9B88F-C371-4821-9B7B-8A63BB120D95_[28610, 12973, 30707, 15376]\n",
      "\tnifti files created for TCGA-EW-A1PH-01Z-00-DX1.77e0f907-fe59-4dc2-b582-6f10330a9c01_[1731, 26028, 5261, 29195]\n",
      "\tnifti files created for TCGA-EW-A3U0-01Z-00-DX1.526F60F9-D1EB-4613-B428-18A1FC0BAAE2_[56758, 24285, 57829, 25528]\n",
      "\tnifti files created for TCGA-EW-A6SB-01Z-00-DX1.D56E1922-01A9-4AEE-AB95-D69447DD13EE_[17316, 28293, 20251, 31637]\n",
      "\tnifti files created for TCGA-GI-A2C9-01Z-00-DX1.90181423-51ED-41FE-9B8F-973A67793D4F_[10444, 5924, 12455, 7071]\n",
      "\tnifti files created for TCGA-GM-A2DB-01Z-00-DX1.9EE36AA6-2594-44C7-B05C-91A0AEC7E511_[25296, 21558, 30020, 25487]\n",
      "\tnifti files created for TCGA-GM-A2DD-01Z-00-DX1.01332FF3-7488-41B7-A515-7841715DE92B_[23632, 11206, 27839, 13399]\n",
      "\tnifti files created for TCGA-GM-A2DF-01Z-00-DX1.CD0BE6D7-2DB3-4193-84CC-F9BE7BF18CC2_[25322, 21890, 27778, 24293]\n",
      "\tnifti files created for TCGA-GM-A2DH-01Z-00-DX1.5790F15F-2A0F-4929-8FE4-18A557007989_[25485, 28155, 28297, 30310]\n",
      "\tnifti files created for TCGA-GM-A2DI-01Z-00-DX1.5E9715EA-9D2B-49D0-8F1D-972CF24B1960_[11403, 25532, 12833, 26110]\n",
      "\tnifti files created for TCGA-GM-A3XL-01Z-00-DX1.CCE8AA1D-9194-4E49-9546-DBF25A35847C_[14958, 7913, 18457, 10486]\n",
      "\tnifti files created for TCGA-HN-A2NL-01Z-00-DX1.C2EAF378-4B37-4C1C-BB0F-18FAC62EEC13_[11934, 5768, 12975, 6996]\n",
      "\tnifti files created for TCGA-LL-A441-01Z-00-DX1.33B13078-BB14-4C42-88A6-7460AD2BCD00_[41007, 21564, 43098, 23575]\n",
      "\tnifti files created for TCGA-LL-A5YO-01Z-00-DX1.B5B6DFDB-1020-41FF-AA50-9C633E17DE5F_[18318, 22200, 20126, 23501]\n",
      "\tnifti files created for TCGA-LL-A73Y-01Z-00-DX1.50C20931-3AA9-40B4-8A73-56B1976423A8_[34061, 24725, 35279, 25785]\n",
      "\tnifti files created for TCGA-LL-A740-01Z-00-DX1.757D94A5-EF0F-4A0E-99A9-8809B66438DA_[19720, 12042, 21394, 13711]\n",
      "\tnifti files created for TCGA-OL-A5D6-01Z-00-DX1.6B11331B-4A0D-4E13-B054-A5C7A6FC3AAC_[57556, 20279, 59015, 21782]\n",
      "\tnifti files created for TCGA-OL-A5D7-01Z-00-DX1.A4A45393-9AE1-4370-8B92-CB85CDB04934_[57225, 11248, 60619, 15081]\n",
      "\tnifti files created for TCGA-OL-A5RW-01Z-00-DX1.E16DE8EE-31AF-4EAF-A85F-DB3E3E2C3BFF_[5776, 6844, 6988, 7870]\n",
      "\tnifti files created for TCGA-OL-A66I-01Z-00-DX1.8CE9DCAB-98D3-4163-94AC-1557D86C1E25_[9610, 5741, 11058, 6910]\n",
      "\tnifti files created for TCGA-OL-A66P-01Z-00-DX1.5ADD0D6D-37C6-4BC9-8C2B-64DB18BE99B3_[7537, 5079, 10001, 7043]\n",
      "\tnifti files created for TCGA-OL-A6VO-01Z-00-DX1.291D54D6-EBAF-4622-BD42-97AA5997F014_[22105, 47123, 23430, 48486]\n",
      "\tnifti files created for TCGA-OL-A97C-01Z-00-DX1.BDEEDEE2-6D07-4046-A8A9-D6FF8F337393_[34032, 16250, 36705, 19096]\n",
      "\tnifti files created for TCGA-S3-AA10-01Z-00-DX1.C0468882-0DD8-4FC5-8C2F-E18BE8000F69_[21523, 11996, 23442, 13924]\n",
      "\tnifti files created for TCGA-S3-AA15-01Z-00-DX1.A2456A4A-E6E8-4429-8F09-B997AA497BB0_[27745, 14465, 28848, 15836]\n",
      "DONE\n"
     ]
    }
   ],
   "source": [
    "for ia_idx, (i, a) in enumerate(train_image_anno_rois[start_at:]):\n",
    "    # if verbose:\n",
    "    #     print('Loading WSA')\n",
    "    s = Path(a).stem\n",
    "    if verbose:\n",
    "        print(f'[{ia_idx+1+start_at}/{len(train_image_anno_rois)}]\\t',  s)\n",
    "    \n",
    "    # Check if all nifti conversions were alredy done\n",
    "    output_filename = s \n",
    "    if [file for file in os.listdir(label_folder) if file.startswith(output_filename)]: # if the segmentation file is made (is made last), skip\n",
    "        if verbose:\n",
    "            print(\"\\t[Skipping] nifti files already existed for\", s)\n",
    "        continue\n",
    "    if verbose:\n",
    "        print('loading images')\n",
    "    roi_patch = np.array(Image.open(i))\n",
    "    mask_patch = np.array(Image.open(a))\n",
    "            \n",
    "    # MAKE OUTPUT\n",
    "    if verbose:\n",
    "        print('Start conversion image')\n",
    "    # print(output_filename)\n",
    "    convert_2d_image_to_nifti(roi_patch, os.path.join(image_folder, output_filename))\n",
    "    if verbose:\n",
    "        print('Start conversion label')\n",
    "    convert_2d_image_to_nifti(mask_patch, os.path.join(label_folder, output_filename), is_seg=True)\n",
    "    print(\"\\tnifti files created for\", s)\n",
    "print(\"DONE\")"
   ]
  },
  {
   "cell_type": "markdown",
   "id": "2cdee1d7-3c04-4c80-95af-af1938a8ced1",
   "metadata": {},
   "source": [
    "# Loop for saving nifi using WSI loop, BE WARNED\n",
    "### Dont save nifti files using both loops, this will cause duplicates in your training data. \n",
    "I wanted to leave this code here as an option for other applications where only WSI and xml's are available"
   ]
  },
  {
   "cell_type": "code",
   "execution_count": 161,
   "id": "2c357220-03c8-46ad-b46f-44daa6544ea1",
   "metadata": {
    "tags": []
   },
   "outputs": [],
   "source": [
    "# for ia_idx, (i, a) in enumerate(train_image_anno[start_at:]):\n",
    "#     all_done = True\n",
    "#     if verbose:\n",
    "#         print('Loading WSA')\n",
    "#     wsa = WholeSlideAnnotation(a, parser=parser)\n",
    "#     s = Path(a).stem\n",
    "#     print(f'[{ia_idx+1+start_at}/{len(train_image_anno)}]\\t',  s)\n",
    "    \n",
    "#     # Check if all nifti conversions were alredy done\n",
    "#     for idx, anno in enumerate(wsa.sampling_annotations):\n",
    "#         output_filename = s + \"_ROI\" + str(idx)\n",
    "#         if not [file for file in os.listdir(label_folder) if file.startswith(output_filename)]: # if we cannot find the segemtnation nifti, not all conversions are done\n",
    "#             all_done = False\n",
    "#     if all_done == True:\n",
    "#         # print(\"\\t[Skipping] nifti files already exist for this WSI\")\n",
    "#         continue\n",
    "    \n",
    "#     if verbose:\n",
    "#         print('Loading WSI')\n",
    "#     # If not all files were converted already, load wsi and convert  \n",
    "#     wsi = WholeSlideImage(i, backend='asap')\n",
    "#     for idx, anno in enumerate(wsa.sampling_annotations):\n",
    "#         output_filename = s + \"_ROI\" + str(idx)\n",
    "#         if [file for file in os.listdir(label_folder) if file.startswith(output_filename)]: # if the segmentation file is made (is made last), skip\n",
    "#             print(\"\\t[Skipping] nifti files already existed for roi\", idx)\n",
    "#             continue\n",
    "#         roi_patch = wsi.get_annotation(anno, 0.5)\n",
    "        \n",
    "#         if verbose: \n",
    "#             print(idx, 'loading mask')\n",
    "#         seg_ratio= 1\n",
    "#         mask_patch = label_sampler.sample(wsa, Point(anno.center), reversed(roi_patch.shape[:2]), ratio=seg_ratio) \n",
    "        \n",
    "#         # MAKE OUTPUT\n",
    "#         if verbose:\n",
    "#             print('Start conversion image')\n",
    "#         # print(output_filename)\n",
    "          # print('not saving, just to be safe, make nifti files using this OR the previous loop. Comment out the following line to save using this loop')\n",
    "#         ##### convert_2d_image_to_nifti(roi_patch, os.path.join(image_folder, output_filename))\n",
    "#         if verbose:\n",
    "#             print('Start conversion label')\n",
    "#         # print('not saving, just to be safe, make nifti files using this OR the previous loop. Comment out the following line to save using this loop')\n",
    "#         ##### convert_2d_image_to_nifti(mask_patch, os.path.join(label_folder, output_filename), is_seg=True)\n",
    "        \n",
    "#         print(\"\\tnifti files created for roi\", idx)\n",
    "# print(\"DONE\")"
   ]
  },
  {
   "cell_type": "markdown",
   "id": "0e85cfb3-31bd-4c2c-a6c4-02d095b55cc0",
   "metadata": {
    "tags": []
   },
   "source": [
    "---\n",
    "---\n",
    "# Create dataset json\n",
    "wait till nifi conversion is completed"
   ]
  },
  {
   "cell_type": "markdown",
   "id": "5a66de32",
   "metadata": {},
   "source": [
    "### Function for dataset json"
   ]
  },
  {
   "cell_type": "code",
   "execution_count": 69,
   "id": "5de03841-3480-4c5f-beb7-2872bba9aeb6",
   "metadata": {},
   "outputs": [],
   "source": [
    "def GenerateJson(dataset_path):\n",
    "    dataset = {}\n",
    "    dataset['name'] = 'immunotherapy_pilot'\n",
    "    dataset['description'] = 'Lung Tissue Segmentation in H&E stained whole slide images. This time with improved annotations (30-01-2022)'\n",
    "    dataset['reference'] = 'Radboud University Medical Center '\n",
    "    dataset['licence'] = 'XXXX'\n",
    "    dataset['relase'] = 'X.XX'\n",
    "    dataset['tensorImageSize'] = '2D'\n",
    "    dataset['modality'] = {\n",
    "        \"0\": \"R Histopathology\",\n",
    "        \"1\": \"G Histopathology\",\n",
    "        \"2\": \"B Histopathology\"}\n",
    "    \n",
    "    dataset['labels'] = {str(n) : label_names[n] for n in range(n_labels)}\n",
    "\n",
    "    dataset['training'] = []\n",
    "    dataset['test'] = []\n",
    "    images_path = os.path.join(dataset_path, 'imagesTr')\n",
    "\n",
    "    filelist = os.listdir(images_path)\n",
    "    filelist = [re.sub(r'_000\\d', '', f) for f in filelist]\n",
    "    filelist = np.unique(filelist)\n",
    "\n",
    "    for f in filelist:\n",
    "        json_imagetr = './' + 'imagesTr/' + f\n",
    "        json_mask = './' + 'labelsTr/' + f\n",
    "\n",
    "        dataset['training'].append({\n",
    "            'image': json_imagetr,\n",
    "            'label': json_mask\n",
    "        })\n",
    "\n",
    "\n",
    "    dataset['numTraining'] = len(filelist)\n",
    "    json_path = os.path.join(dataset_path, 'dataset.json')\n",
    "    with open(json_path, 'w') as outfile:\n",
    "        json.dump(dataset, outfile, indent=4)"
   ]
  },
  {
   "cell_type": "markdown",
   "id": "b412e515",
   "metadata": {},
   "source": [
    "### Make dataset json"
   ]
  },
  {
   "cell_type": "code",
   "execution_count": 71,
   "id": "34030292",
   "metadata": {
    "tags": []
   },
   "outputs": [
    {
     "name": "stdout",
     "output_type": "stream",
     "text": [
      "/data/pathology/projects/pathology-lung-TIL/nnUNet_raw_data_base/nnUNet_raw_data/Task027_TIGER_public_test\n"
     ]
    }
   ],
   "source": [
    "print(task_root)\n",
    "GenerateJson(task_root)"
   ]
  },
  {
   "cell_type": "markdown",
   "id": "40d03d5d",
   "metadata": {},
   "source": [
    "---\n",
    "---\n",
    "# Run nnUNet"
   ]
  },
  {
   "cell_type": "code",
   "execution_count": 73,
   "id": "6d4e1feb",
   "metadata": {},
   "outputs": [
    {
     "name": "stdout",
     "output_type": "stream",
     "text": [
      "TASK:\t\t Task027_TIGER_public_test\n",
      "nnUNet ROOT:\t /data/pathology/projects/pathology-lung-TIL/nnUNet_raw_data_base\n"
     ]
    }
   ],
   "source": [
    "print(\"TASK:\\t\\t\", task_name)\n",
    "print(\"nnUNet ROOT:\\t\", nnUNet_base)"
   ]
  },
  {
   "cell_type": "markdown",
   "id": "9307c2fb-25ef-4bbe-887b-c0c013b15c70",
   "metadata": {},
   "source": [
    "## Set trainer, and experiment planner\n",
    "These are used to print the commands you need to run\n",
    "\n",
    "If the proposed experiment planner doesnt work doesnt fit your GPU (we used 10/11 GB), we advise you to use the default planner and check on the batch and patch size it returns. You can then try bigger batch size with a smaller patch size, which is the same approach wee took during our experimental phase."
   ]
  },
  {
   "cell_type": "markdown",
   "id": "55b894a8-6d60-420d-9585-1187d813f6d4",
   "metadata": {},
   "source": [
    "#### Trainer\n",
    "*Best: nnUNetTrainerV2_BN_pathology_DA_ignore0_hed005*\n",
    "\n",
    "You can check out other trainers as well. Or get some idea on how to change/ create your own trainers"
   ]
  },
  {
   "cell_type": "code",
   "execution_count": null,
   "id": "bf3f6a95-2dc8-4732-a40e-76575734e753",
   "metadata": {},
   "outputs": [],
   "source": [
    "# trainer_name = 'nnUNetTrainerV2' #default\n",
    "# trainer_name = 'nnUNetTrainerV2_BN' # with batch norm\n",
    "# trainer_name = 'nnUNetTrainerV2_ignore0' # ignore label 0 in loss calculation\n",
    "# trainer_name = 'nnUNetTrainerV2_BN_pathology_DA_hed005' # batch norm and \n",
    "trainer_name = 'nnUNetTrainerV2_BN_pathology_DA_ignore0_hed005' #best, batch norm, ignore0, and HED augmentation\n",
    "# trainer_name = 'nnUNetTrainerV2_BN_pathology_DA_hed005_hsv010' # "
   ]
  },
  {
   "cell_type": "markdown",
   "id": "9ef26a5e-91a2-4044-9f11-a92992fe2bcc",
   "metadata": {},
   "source": [
    "#### Experiment planner class, and Plans file name (created by the experiment planner class)\n",
    "*Best: ExperimentPlanner2D_v21_RGB_scaleTo_0_1_bs8_ps512, nnUNet_RGB_scaleTo_0_1_bs8_ps512*"
   ]
  },
  {
   "cell_type": "code",
   "execution_count": 42,
   "id": "09cb7590-8b06-45c6-86ed-c382224d1b3b",
   "metadata": {},
   "outputs": [],
   "source": [
    "experiment_planner, experiment_planner_identifier = '', '' # this is a compatibility wrapper of the default\n",
    "# experiment_planner, experiment_planner_identifier = 'ExperimentPlanner2D_v21_RGB_z_score_default_bs2_ps1024', 'nnUNet_RGB_z_score_default_bs2_ps1024' # this is a compatibility wrapper of the default with set bs ps\n",
    "# experiment_planner, experiment_planner_identifier = 'ExperimentPlanner2D_v21_RGB_scaleTo_0_1', 'nnUNet_RGB_scaleTo_0_1'\n",
    "# experiment_planner, experiment_planner_identifier = 'ExperimentPlanner2D_v21_RGB_scaleTo_0_1_bs2_ps1024', 'nnUNet_RGB_scaleTo_0_1_bs2_ps1024' # found by default with gpu of 11GB\n",
    "# experiment_planner, experiment_planner_identifier = 'ExperimentPlanner2D_v21_RGB_scaleTo_0_1_bs8_ps512', 'nnUNet_RGB_scaleTo_0_1_bs8_ps512' # best tested configuration, however\n",
    "# experiment_planner, experiment_planner_identifier = 'ExperimentPlanner2D_v21_RGB_scaleTo_0_1_bs32_ps256', 'nnUNet_RGB_scaleTo_0_1_bs32_ps256'"
   ]
  },
  {
   "cell_type": "markdown",
   "id": "a1b5dd26-c7c0-41cc-86f1-222628fb454c",
   "metadata": {},
   "source": [
    "# Plan and preprocess"
   ]
  },
  {
   "cell_type": "code",
   "execution_count": 43,
   "id": "f0f50625-9dd5-4c90-97a9-307851ce7e37",
   "metadata": {},
   "outputs": [
    {
     "name": "stdout",
     "output_type": "stream",
     "text": [
      "export nnUNet_raw_data_base=/data/pathology/projects/pathology-lung-TIL/nnUNet_raw_data_base\n",
      "export nnUNet_preprocessed=/data/pathology/projects/pathology-lung-TIL/nnUNet_raw_data_base/nnUNet_preprocessed\n",
      "export RESULTS_FOLDER=/data/pathology/projects/pathology-lung-TIL/nnUNet_raw_data_base/results\n"
     ]
    }
   ],
   "source": [
    "# If you havent already, run this or something similar in terminal to set your environment variables \n",
    "print(f'export nnUNet_raw_data_base={nnUNet_base}')\n",
    "print(f'export nnUNet_preprocessed={preprocessed_root}')\n",
    "print(f\"export RESULTS_FOLDER={os.path.join(nnUNet_base, 'results')}\")"
   ]
  },
  {
   "cell_type": "markdown",
   "id": "f4d3f015-1e5c-4b89-980b-79e4361b4dab",
   "metadata": {},
   "source": [
    "#### Run the following command to plan your experiment and preprocess your data"
   ]
  },
  {
   "cell_type": "code",
   "execution_count": 46,
   "id": "aa105dc6-f603-499e-88b0-a59ba2b0c644",
   "metadata": {},
   "outputs": [
    {
     "name": "stdout",
     "output_type": "stream",
     "text": [
      "nnUNet_plan_and_preprocess -t 027  -pl3d None --verify_dataset_integrity\n"
     ]
    }
   ],
   "source": [
    "cmd = ['nnUNet_plan_and_preprocess',\n",
    "      '-t', task_id,\n",
    "      # '-tl', '1', # most probably you can increase this\n",
    "      # '-tf', '1', # most probably you can increase this\n",
    "      f'-pl2d {experiment_planner}' if experiment_planner else '',\n",
    "      '-pl3d', 'None',\n",
    "      '--verify_dataset_integrity']\n",
    "print(' '.join(cmd))"
   ]
  },
  {
   "cell_type": "code",
   "execution_count": 40,
   "id": "99bc811c-1054-465e-b609-55e0ec78eb6d",
   "metadata": {},
   "outputs": [
    {
     "name": "stdout",
     "output_type": "stream",
     "text": [
      "example:\n",
      " nnUNet_plan_and_preprocess -t 027 -tl 1 -tf 1 -pl2d ExperimentPlanner2D_v21_RGB_scaleTo_0_1_bs8_ps512 -pl3d None --verify_dataset_integrity\n"
     ]
    }
   ],
   "source": [
    "print('example:\\n', \n",
    "      'nnUNet_plan_and_preprocess -t 027 -tl 1 -tf 1 -pl2d ExperimentPlanner2D_v21_RGB_scaleTo_0_1_bs8_ps512 -pl3d None --verify_dataset_integrity')"
   ]
  },
  {
   "cell_type": "markdown",
   "id": "6993d6be-70bd-496a-9c8f-adf7132ffb1c",
   "metadata": {},
   "source": [
    "# Train"
   ]
  },
  {
   "cell_type": "markdown",
   "id": "6b35b448-1b36-4d71-8a77-1b94ff542887",
   "metadata": {},
   "source": [
    "#### Run the following commands to train the 5 folds\n",
    "Note: \n",
    "- if your training is interrupted and you need to *continue* training add -c to the command. Done automatically in the code below but still worth mentioning\n",
    "- you can also run with fold='all' to train on all data (no cv)"
   ]
  },
  {
   "cell_type": "code",
   "execution_count": 196,
   "id": "f4a04a5e-b12c-4e04-914e-bf2d1bd7fab5",
   "metadata": {},
   "outputs": [
    {
     "name": "stdout",
     "output_type": "stream",
     "text": [
      "nnUNet_train 2d nnUNetTrainerV2_BN_pathology_DA_ignore0_hed005 027 0 -c -p nnUNet_RGB_scaleTo_0_1_bs8_ps512\n",
      "nnUNet_train 2d nnUNetTrainerV2_BN_pathology_DA_ignore0_hed005 027 1 -p nnUNet_RGB_scaleTo_0_1_bs8_ps512\n",
      "nnUNet_train 2d nnUNetTrainerV2_BN_pathology_DA_ignore0_hed005 027 2 -p nnUNet_RGB_scaleTo_0_1_bs8_ps512\n",
      "nnUNet_train 2d nnUNetTrainerV2_BN_pathology_DA_ignore0_hed005 027 3 -p nnUNet_RGB_scaleTo_0_1_bs8_ps512\n",
      "nnUNet_train 2d nnUNetTrainerV2_BN_pathology_DA_ignore0_hed005 027 4 -p nnUNet_RGB_scaleTo_0_1_bs8_ps512\n"
     ]
    }
   ],
   "source": [
    "for fold in range(5):\n",
    "    cmd = ['nnUNet_train',\n",
    "           '2d',\n",
    "           trainer_name,\n",
    "           task_id,\n",
    "           str(fold)]\n",
    "    outdir = os.path.join(nnUNet_base, 'results', 'nnUNet', '2d', task_name, f'{trainer_name}__{experiment_planner_identifier}', 'all' if fold=='all' else f'fold_{fold}')\n",
    "    if os.path.isdir(outdir) and any(Path(outdir).glob(\"*.model\")):\n",
    "        cmd.append('-c')\n",
    "    cmd.append(f'-p {experiment_planner_identifier}')\n",
    "    print(' '.join(cmd))"
   ]
  },
  {
   "cell_type": "code",
   "execution_count": 141,
   "id": "a50a2262-64c4-4005-9559-18059902d0d5",
   "metadata": {},
   "outputs": [
    {
     "name": "stdout",
     "output_type": "stream",
     "text": [
      "example:\n",
      " nnUNet_train 2d nnUNetTrainerV2_BN_pathology_DA_ignore0_hed005 027 0 -p nnUNet_RGB_scaleTo_0_1_bs8_ps512\n"
     ]
    }
   ],
   "source": [
    "print('example:\\n', \n",
    "      'nnUNet_train 2d nnUNetTrainerV2_BN_pathology_DA_ignore0_hed005 027 0 -p nnUNet_RGB_scaleTo_0_1_bs8_ps512')"
   ]
  }
 ],
 "metadata": {
  "kernelspec": {
   "display_name": "Python 3 (ipykernel)",
   "language": "python",
   "name": "python3"
  },
  "language_info": {
   "codemirror_mode": {
    "name": "ipython",
    "version": 3
   },
   "file_extension": ".py",
   "mimetype": "text/x-python",
   "name": "python",
   "nbconvert_exporter": "python",
   "pygments_lexer": "ipython3",
   "version": "3.9.13"
  }
 },
 "nbformat": 4,
 "nbformat_minor": 5
}
